{
 "cells": [
  {
   "cell_type": "code",
   "execution_count": 1,
   "metadata": {
    "execution": {
     "iopub.execute_input": "2025-09-04T13:06:26.027550Z",
     "iopub.status.busy": "2025-09-04T13:06:26.027390Z",
     "iopub.status.idle": "2025-09-04T13:07:49.994718Z",
     "shell.execute_reply": "2025-09-04T13:07:49.994005Z",
     "shell.execute_reply.started": "2025-09-04T13:06:26.027534Z"
    },
    "scrolled": true,
    "trusted": true
   },
   "outputs": [
    {
     "name": "stdout",
     "output_type": "stream",
     "text": [
      "Requirement already satisfied: langchain in /usr/local/lib/python3.11/dist-packages (0.3.26)\n",
      "Collecting langchain\n",
      "  Downloading langchain-0.3.27-py3-none-any.whl.metadata (7.8 kB)\n",
      "Collecting langchain-community\n",
      "  Downloading langchain_community-0.3.29-py3-none-any.whl.metadata (2.9 kB)\n",
      "Collecting langchain-huggingface\n",
      "  Downloading langchain_huggingface-0.3.1-py3-none-any.whl.metadata (996 bytes)\n",
      "Requirement already satisfied: pypdf in /usr/local/lib/python3.11/dist-packages (5.7.0)\n",
      "Collecting pypdf\n",
      "  Downloading pypdf-6.0.0-py3-none-any.whl.metadata (7.1 kB)\n",
      "Requirement already satisfied: sentence-transformers in /usr/local/lib/python3.11/dist-packages (4.1.0)\n",
      "Collecting sentence-transformers\n",
      "  Downloading sentence_transformers-5.1.0-py3-none-any.whl.metadata (16 kB)\n",
      "Collecting faiss-cpu\n",
      "  Downloading faiss_cpu-1.12.0-cp311-cp311-manylinux_2_27_x86_64.manylinux_2_28_x86_64.whl.metadata (5.1 kB)\n",
      "Collecting rank_bm25\n",
      "  Downloading rank_bm25-0.2.2-py3-none-any.whl.metadata (3.2 kB)\n",
      "Collecting langchain-core<1.0.0,>=0.3.72 (from langchain)\n",
      "  Downloading langchain_core-0.3.75-py3-none-any.whl.metadata (5.7 kB)\n",
      "Collecting langchain-text-splitters<1.0.0,>=0.3.9 (from langchain)\n",
      "  Downloading langchain_text_splitters-0.3.11-py3-none-any.whl.metadata (1.8 kB)\n",
      "Requirement already satisfied: langsmith>=0.1.17 in /usr/local/lib/python3.11/dist-packages (from langchain) (0.4.1)\n",
      "Requirement already satisfied: pydantic<3.0.0,>=2.7.4 in /usr/local/lib/python3.11/dist-packages (from langchain) (2.11.7)\n",
      "Requirement already satisfied: SQLAlchemy<3,>=1.4 in /usr/local/lib/python3.11/dist-packages (from langchain) (2.0.41)\n",
      "Requirement already satisfied: requests<3,>=2 in /usr/local/lib/python3.11/dist-packages (from langchain) (2.32.4)\n",
      "Requirement already satisfied: PyYAML>=5.3 in /usr/local/lib/python3.11/dist-packages (from langchain) (6.0.2)\n",
      "Collecting requests<3,>=2 (from langchain)\n",
      "  Downloading requests-2.32.5-py3-none-any.whl.metadata (4.9 kB)\n",
      "Requirement already satisfied: aiohttp<4.0.0,>=3.8.3 in /usr/local/lib/python3.11/dist-packages (from langchain-community) (3.12.13)\n",
      "Requirement already satisfied: tenacity!=8.4.0,<10,>=8.1.0 in /usr/local/lib/python3.11/dist-packages (from langchain-community) (8.5.0)\n",
      "Requirement already satisfied: dataclasses-json<0.7,>=0.6.7 in /usr/local/lib/python3.11/dist-packages (from langchain-community) (0.6.7)\n",
      "Collecting pydantic-settings<3.0.0,>=2.10.1 (from langchain-community)\n",
      "  Downloading pydantic_settings-2.10.1-py3-none-any.whl.metadata (3.4 kB)\n",
      "Collecting httpx-sse<1.0.0,>=0.4.0 (from langchain-community)\n",
      "  Downloading httpx_sse-0.4.1-py3-none-any.whl.metadata (9.4 kB)\n",
      "Requirement already satisfied: numpy>=1.26.2 in /usr/local/lib/python3.11/dist-packages (from langchain-community) (1.26.4)\n",
      "Requirement already satisfied: tokenizers>=0.19.1 in /usr/local/lib/python3.11/dist-packages (from langchain-huggingface) (0.21.2)\n",
      "Collecting huggingface-hub>=0.33.4 (from langchain-huggingface)\n",
      "  Downloading huggingface_hub-0.34.4-py3-none-any.whl.metadata (14 kB)\n",
      "Requirement already satisfied: transformers<5.0.0,>=4.41.0 in /usr/local/lib/python3.11/dist-packages (from sentence-transformers) (4.52.4)\n",
      "Requirement already satisfied: tqdm in /usr/local/lib/python3.11/dist-packages (from sentence-transformers) (4.67.1)\n",
      "Requirement already satisfied: torch>=1.11.0 in /usr/local/lib/python3.11/dist-packages (from sentence-transformers) (2.6.0+cu124)\n",
      "Requirement already satisfied: scikit-learn in /usr/local/lib/python3.11/dist-packages (from sentence-transformers) (1.2.2)\n",
      "Requirement already satisfied: scipy in /usr/local/lib/python3.11/dist-packages (from sentence-transformers) (1.15.3)\n",
      "Requirement already satisfied: Pillow in /usr/local/lib/python3.11/dist-packages (from sentence-transformers) (11.2.1)\n",
      "Requirement already satisfied: typing_extensions>=4.5.0 in /usr/local/lib/python3.11/dist-packages (from sentence-transformers) (4.14.0)\n",
      "Requirement already satisfied: packaging in /usr/local/lib/python3.11/dist-packages (from faiss-cpu) (25.0)\n",
      "Requirement already satisfied: aiohappyeyeballs>=2.5.0 in /usr/local/lib/python3.11/dist-packages (from aiohttp<4.0.0,>=3.8.3->langchain-community) (2.6.1)\n",
      "Requirement already satisfied: aiosignal>=1.1.2 in /usr/local/lib/python3.11/dist-packages (from aiohttp<4.0.0,>=3.8.3->langchain-community) (1.3.2)\n",
      "Requirement already satisfied: attrs>=17.3.0 in /usr/local/lib/python3.11/dist-packages (from aiohttp<4.0.0,>=3.8.3->langchain-community) (25.3.0)\n",
      "Requirement already satisfied: frozenlist>=1.1.1 in /usr/local/lib/python3.11/dist-packages (from aiohttp<4.0.0,>=3.8.3->langchain-community) (1.7.0)\n",
      "Requirement already satisfied: multidict<7.0,>=4.5 in /usr/local/lib/python3.11/dist-packages (from aiohttp<4.0.0,>=3.8.3->langchain-community) (6.6.3)\n",
      "Requirement already satisfied: propcache>=0.2.0 in /usr/local/lib/python3.11/dist-packages (from aiohttp<4.0.0,>=3.8.3->langchain-community) (0.3.2)\n",
      "Requirement already satisfied: yarl<2.0,>=1.17.0 in /usr/local/lib/python3.11/dist-packages (from aiohttp<4.0.0,>=3.8.3->langchain-community) (1.20.1)\n",
      "Requirement already satisfied: marshmallow<4.0.0,>=3.18.0 in /usr/local/lib/python3.11/dist-packages (from dataclasses-json<0.7,>=0.6.7->langchain-community) (3.26.1)\n",
      "Requirement already satisfied: typing-inspect<1,>=0.4.0 in /usr/local/lib/python3.11/dist-packages (from dataclasses-json<0.7,>=0.6.7->langchain-community) (0.9.0)\n",
      "Requirement already satisfied: filelock in /usr/local/lib/python3.11/dist-packages (from huggingface-hub>=0.33.4->langchain-huggingface) (3.18.0)\n",
      "Requirement already satisfied: fsspec>=2023.5.0 in /usr/local/lib/python3.11/dist-packages (from huggingface-hub>=0.33.4->langchain-huggingface) (2025.5.1)\n",
      "Requirement already satisfied: hf-xet<2.0.0,>=1.1.3 in /usr/local/lib/python3.11/dist-packages (from huggingface-hub>=0.33.4->langchain-huggingface) (1.1.5)\n",
      "Requirement already satisfied: jsonpatch<2.0,>=1.33 in /usr/local/lib/python3.11/dist-packages (from langchain-core<1.0.0,>=0.3.72->langchain) (1.33)\n",
      "Requirement already satisfied: httpx<1,>=0.23.0 in /usr/local/lib/python3.11/dist-packages (from langsmith>=0.1.17->langchain) (0.28.1)\n",
      "Requirement already satisfied: orjson<4.0.0,>=3.9.14 in /usr/local/lib/python3.11/dist-packages (from langsmith>=0.1.17->langchain) (3.10.18)\n",
      "Requirement already satisfied: requests-toolbelt<2.0.0,>=1.0.0 in /usr/local/lib/python3.11/dist-packages (from langsmith>=0.1.17->langchain) (1.0.0)\n",
      "Requirement already satisfied: zstandard<0.24.0,>=0.23.0 in /usr/local/lib/python3.11/dist-packages (from langsmith>=0.1.17->langchain) (0.23.0)\n",
      "Requirement already satisfied: mkl_fft in /usr/local/lib/python3.11/dist-packages (from numpy>=1.26.2->langchain-community) (1.3.8)\n",
      "Requirement already satisfied: mkl_random in /usr/local/lib/python3.11/dist-packages (from numpy>=1.26.2->langchain-community) (1.2.4)\n",
      "Requirement already satisfied: mkl_umath in /usr/local/lib/python3.11/dist-packages (from numpy>=1.26.2->langchain-community) (0.1.1)\n",
      "Requirement already satisfied: mkl in /usr/local/lib/python3.11/dist-packages (from numpy>=1.26.2->langchain-community) (2025.2.0)\n",
      "Requirement already satisfied: tbb4py in /usr/local/lib/python3.11/dist-packages (from numpy>=1.26.2->langchain-community) (2022.2.0)\n",
      "Requirement already satisfied: mkl-service in /usr/local/lib/python3.11/dist-packages (from numpy>=1.26.2->langchain-community) (2.4.1)\n",
      "Requirement already satisfied: annotated-types>=0.6.0 in /usr/local/lib/python3.11/dist-packages (from pydantic<3.0.0,>=2.7.4->langchain) (0.7.0)\n",
      "Requirement already satisfied: pydantic-core==2.33.2 in /usr/local/lib/python3.11/dist-packages (from pydantic<3.0.0,>=2.7.4->langchain) (2.33.2)\n",
      "Requirement already satisfied: typing-inspection>=0.4.0 in /usr/local/lib/python3.11/dist-packages (from pydantic<3.0.0,>=2.7.4->langchain) (0.4.1)\n",
      "Collecting python-dotenv>=0.21.0 (from pydantic-settings<3.0.0,>=2.10.1->langchain-community)\n",
      "  Downloading python_dotenv-1.1.1-py3-none-any.whl.metadata (24 kB)\n",
      "Requirement already satisfied: charset_normalizer<4,>=2 in /usr/local/lib/python3.11/dist-packages (from requests<3,>=2->langchain) (3.4.2)\n",
      "Requirement already satisfied: idna<4,>=2.5 in /usr/local/lib/python3.11/dist-packages (from requests<3,>=2->langchain) (3.10)\n",
      "Requirement already satisfied: urllib3<3,>=1.21.1 in /usr/local/lib/python3.11/dist-packages (from requests<3,>=2->langchain) (2.5.0)\n",
      "Requirement already satisfied: certifi>=2017.4.17 in /usr/local/lib/python3.11/dist-packages (from requests<3,>=2->langchain) (2025.6.15)\n",
      "Requirement already satisfied: greenlet>=1 in /usr/local/lib/python3.11/dist-packages (from SQLAlchemy<3,>=1.4->langchain) (3.2.3)\n",
      "Requirement already satisfied: networkx in /usr/local/lib/python3.11/dist-packages (from torch>=1.11.0->sentence-transformers) (3.5)\n",
      "Requirement already satisfied: jinja2 in /usr/local/lib/python3.11/dist-packages (from torch>=1.11.0->sentence-transformers) (3.1.6)\n",
      "Collecting nvidia-cuda-nvrtc-cu12==12.4.127 (from torch>=1.11.0->sentence-transformers)\n",
      "  Downloading nvidia_cuda_nvrtc_cu12-12.4.127-py3-none-manylinux2014_x86_64.whl.metadata (1.5 kB)\n",
      "Collecting nvidia-cuda-runtime-cu12==12.4.127 (from torch>=1.11.0->sentence-transformers)\n",
      "  Downloading nvidia_cuda_runtime_cu12-12.4.127-py3-none-manylinux2014_x86_64.whl.metadata (1.5 kB)\n",
      "Collecting nvidia-cuda-cupti-cu12==12.4.127 (from torch>=1.11.0->sentence-transformers)\n",
      "  Downloading nvidia_cuda_cupti_cu12-12.4.127-py3-none-manylinux2014_x86_64.whl.metadata (1.6 kB)\n",
      "Collecting nvidia-cudnn-cu12==9.1.0.70 (from torch>=1.11.0->sentence-transformers)\n",
      "  Downloading nvidia_cudnn_cu12-9.1.0.70-py3-none-manylinux2014_x86_64.whl.metadata (1.6 kB)\n",
      "Collecting nvidia-cublas-cu12==12.4.5.8 (from torch>=1.11.0->sentence-transformers)\n",
      "  Downloading nvidia_cublas_cu12-12.4.5.8-py3-none-manylinux2014_x86_64.whl.metadata (1.5 kB)\n",
      "Collecting nvidia-cufft-cu12==11.2.1.3 (from torch>=1.11.0->sentence-transformers)\n",
      "  Downloading nvidia_cufft_cu12-11.2.1.3-py3-none-manylinux2014_x86_64.whl.metadata (1.5 kB)\n",
      "Collecting nvidia-curand-cu12==10.3.5.147 (from torch>=1.11.0->sentence-transformers)\n",
      "  Downloading nvidia_curand_cu12-10.3.5.147-py3-none-manylinux2014_x86_64.whl.metadata (1.5 kB)\n",
      "Collecting nvidia-cusolver-cu12==11.6.1.9 (from torch>=1.11.0->sentence-transformers)\n",
      "  Downloading nvidia_cusolver_cu12-11.6.1.9-py3-none-manylinux2014_x86_64.whl.metadata (1.6 kB)\n",
      "Collecting nvidia-cusparse-cu12==12.3.1.170 (from torch>=1.11.0->sentence-transformers)\n",
      "  Downloading nvidia_cusparse_cu12-12.3.1.170-py3-none-manylinux2014_x86_64.whl.metadata (1.6 kB)\n",
      "Requirement already satisfied: nvidia-cusparselt-cu12==0.6.2 in /usr/local/lib/python3.11/dist-packages (from torch>=1.11.0->sentence-transformers) (0.6.2)\n",
      "Requirement already satisfied: nvidia-nccl-cu12==2.21.5 in /usr/local/lib/python3.11/dist-packages (from torch>=1.11.0->sentence-transformers) (2.21.5)\n",
      "Requirement already satisfied: nvidia-nvtx-cu12==12.4.127 in /usr/local/lib/python3.11/dist-packages (from torch>=1.11.0->sentence-transformers) (12.4.127)\n",
      "Collecting nvidia-nvjitlink-cu12==12.4.127 (from torch>=1.11.0->sentence-transformers)\n",
      "  Downloading nvidia_nvjitlink_cu12-12.4.127-py3-none-manylinux2014_x86_64.whl.metadata (1.5 kB)\n",
      "Requirement already satisfied: triton==3.2.0 in /usr/local/lib/python3.11/dist-packages (from torch>=1.11.0->sentence-transformers) (3.2.0)\n",
      "Requirement already satisfied: sympy==1.13.1 in /usr/local/lib/python3.11/dist-packages (from torch>=1.11.0->sentence-transformers) (1.13.1)\n",
      "Requirement already satisfied: mpmath<1.4,>=1.1.0 in /usr/local/lib/python3.11/dist-packages (from sympy==1.13.1->torch>=1.11.0->sentence-transformers) (1.3.0)\n",
      "Requirement already satisfied: regex!=2019.12.17 in /usr/local/lib/python3.11/dist-packages (from transformers<5.0.0,>=4.41.0->sentence-transformers) (2024.11.6)\n",
      "Requirement already satisfied: safetensors>=0.4.3 in /usr/local/lib/python3.11/dist-packages (from transformers<5.0.0,>=4.41.0->sentence-transformers) (0.5.3)\n",
      "Requirement already satisfied: joblib>=1.1.1 in /usr/local/lib/python3.11/dist-packages (from scikit-learn->sentence-transformers) (1.5.1)\n",
      "Requirement already satisfied: threadpoolctl>=2.0.0 in /usr/local/lib/python3.11/dist-packages (from scikit-learn->sentence-transformers) (3.6.0)\n",
      "Requirement already satisfied: anyio in /usr/local/lib/python3.11/dist-packages (from httpx<1,>=0.23.0->langsmith>=0.1.17->langchain) (4.9.0)\n",
      "Requirement already satisfied: httpcore==1.* in /usr/local/lib/python3.11/dist-packages (from httpx<1,>=0.23.0->langsmith>=0.1.17->langchain) (1.0.9)\n",
      "Requirement already satisfied: h11>=0.16 in /usr/local/lib/python3.11/dist-packages (from httpcore==1.*->httpx<1,>=0.23.0->langsmith>=0.1.17->langchain) (0.16.0)\n",
      "Requirement already satisfied: jsonpointer>=1.9 in /usr/local/lib/python3.11/dist-packages (from jsonpatch<2.0,>=1.33->langchain-core<1.0.0,>=0.3.72->langchain) (3.0.0)\n",
      "Requirement already satisfied: mypy-extensions>=0.3.0 in /usr/local/lib/python3.11/dist-packages (from typing-inspect<1,>=0.4.0->dataclasses-json<0.7,>=0.6.7->langchain-community) (1.1.0)\n",
      "Requirement already satisfied: MarkupSafe>=2.0 in /usr/local/lib/python3.11/dist-packages (from jinja2->torch>=1.11.0->sentence-transformers) (3.0.2)\n",
      "Requirement already satisfied: intel-openmp<2026,>=2024 in /usr/local/lib/python3.11/dist-packages (from mkl->numpy>=1.26.2->langchain-community) (2024.2.0)\n",
      "Requirement already satisfied: tbb==2022.* in /usr/local/lib/python3.11/dist-packages (from mkl->numpy>=1.26.2->langchain-community) (2022.2.0)\n",
      "Requirement already satisfied: tcmlib==1.* in /usr/local/lib/python3.11/dist-packages (from tbb==2022.*->mkl->numpy>=1.26.2->langchain-community) (1.4.0)\n",
      "Requirement already satisfied: intel-cmplr-lib-rt in /usr/local/lib/python3.11/dist-packages (from mkl_umath->numpy>=1.26.2->langchain-community) (2024.2.0)\n",
      "Requirement already satisfied: intel-cmplr-lib-ur==2024.2.0 in /usr/local/lib/python3.11/dist-packages (from intel-openmp<2026,>=2024->mkl->numpy>=1.26.2->langchain-community) (2024.2.0)\n",
      "Requirement already satisfied: sniffio>=1.1 in /usr/local/lib/python3.11/dist-packages (from anyio->httpx<1,>=0.23.0->langsmith>=0.1.17->langchain) (1.3.1)\n",
      "Downloading langchain-0.3.27-py3-none-any.whl (1.0 MB)\n",
      "\u001b[2K   \u001b[90m━━━━━━━━━━━━━━━━━━━━━━━━━━━━━━━━━━━━━━━━\u001b[0m \u001b[32m1.0/1.0 MB\u001b[0m \u001b[31m25.8 MB/s\u001b[0m eta \u001b[36m0:00:00\u001b[0m00:01\u001b[0m\n",
      "\u001b[?25hDownloading langchain_community-0.3.29-py3-none-any.whl (2.5 MB)\n",
      "\u001b[2K   \u001b[90m━━━━━━━━━━━━━━━━━━━━━━━━━━━━━━━━━━━━━━━━\u001b[0m \u001b[32m2.5/2.5 MB\u001b[0m \u001b[31m76.8 MB/s\u001b[0m eta \u001b[36m0:00:00\u001b[0m\n",
      "\u001b[?25hDownloading langchain_huggingface-0.3.1-py3-none-any.whl (27 kB)\n",
      "Downloading pypdf-6.0.0-py3-none-any.whl (310 kB)\n",
      "\u001b[2K   \u001b[90m━━━━━━━━━━━━━━━━━━━━━━━━━━━━━━━━━━━━━━━━\u001b[0m \u001b[32m310.5/310.5 kB\u001b[0m \u001b[31m20.3 MB/s\u001b[0m eta \u001b[36m0:00:00\u001b[0m\n",
      "\u001b[?25hDownloading sentence_transformers-5.1.0-py3-none-any.whl (483 kB)\n",
      "\u001b[2K   \u001b[90m━━━━━━━━━━━━━━━━━━━━━━━━━━━━━━━━━━━━━━━━\u001b[0m \u001b[32m483.4/483.4 kB\u001b[0m \u001b[31m30.9 MB/s\u001b[0m eta \u001b[36m0:00:00\u001b[0m\n",
      "\u001b[?25hDownloading faiss_cpu-1.12.0-cp311-cp311-manylinux_2_27_x86_64.manylinux_2_28_x86_64.whl (31.4 MB)\n",
      "\u001b[2K   \u001b[90m━━━━━━━━━━━━━━━━━━━━━━━━━━━━━━━━━━━━━━━━\u001b[0m \u001b[32m31.4/31.4 MB\u001b[0m \u001b[31m65.8 MB/s\u001b[0m eta \u001b[36m0:00:00\u001b[0m:00:01\u001b[0m00:01\u001b[0m\n",
      "\u001b[?25hDownloading rank_bm25-0.2.2-py3-none-any.whl (8.6 kB)\n",
      "Downloading httpx_sse-0.4.1-py3-none-any.whl (8.1 kB)\n",
      "Downloading huggingface_hub-0.34.4-py3-none-any.whl (561 kB)\n",
      "\u001b[2K   \u001b[90m━━━━━━━━━━━━━━━━━━━━━━━━━━━━━━━━━━━━━━━━\u001b[0m \u001b[32m561.5/561.5 kB\u001b[0m \u001b[31m35.4 MB/s\u001b[0m eta \u001b[36m0:00:00\u001b[0m\n",
      "\u001b[?25hDownloading langchain_core-0.3.75-py3-none-any.whl (443 kB)\n",
      "\u001b[2K   \u001b[90m━━━━━━━━━━━━━━━━━━━━━━━━━━━━━━━━━━━━━━━━\u001b[0m \u001b[32m444.0/444.0 kB\u001b[0m \u001b[31m18.5 MB/s\u001b[0m eta \u001b[36m0:00:00\u001b[0m\n",
      "\u001b[?25hDownloading langchain_text_splitters-0.3.11-py3-none-any.whl (33 kB)\n",
      "Downloading pydantic_settings-2.10.1-py3-none-any.whl (45 kB)\n",
      "\u001b[2K   \u001b[90m━━━━━━━━━━━━━━━━━━━━━━━━━━━━━━━━━━━━━━━━\u001b[0m \u001b[32m45.2/45.2 kB\u001b[0m \u001b[31m2.4 MB/s\u001b[0m eta \u001b[36m0:00:00\u001b[0m\n",
      "\u001b[?25hDownloading requests-2.32.5-py3-none-any.whl (64 kB)\n",
      "\u001b[2K   \u001b[90m━━━━━━━━━━━━━━━━━━━━━━━━━━━━━━━━━━━━━━━━\u001b[0m \u001b[32m64.7/64.7 kB\u001b[0m \u001b[31m4.9 MB/s\u001b[0m eta \u001b[36m0:00:00\u001b[0m\n",
      "\u001b[?25hDownloading nvidia_cublas_cu12-12.4.5.8-py3-none-manylinux2014_x86_64.whl (363.4 MB)\n",
      "\u001b[2K   \u001b[90m━━━━━━━━━━━━━━━━━━━━━━━━━━━━━━━━━━━━━━━━\u001b[0m \u001b[32m363.4/363.4 MB\u001b[0m \u001b[31m4.7 MB/s\u001b[0m eta \u001b[36m0:00:00\u001b[0m:00:01\u001b[0m00:01\u001b[0m\n",
      "\u001b[?25hDownloading nvidia_cuda_cupti_cu12-12.4.127-py3-none-manylinux2014_x86_64.whl (13.8 MB)\n",
      "\u001b[2K   \u001b[90m━━━━━━━━━━━━━━━━━━━━━━━━━━━━━━━━━━━━━━━━\u001b[0m \u001b[32m13.8/13.8 MB\u001b[0m \u001b[31m105.2 MB/s\u001b[0m eta \u001b[36m0:00:00\u001b[0m00:01\u001b[0m0:01\u001b[0m\n",
      "\u001b[?25hDownloading nvidia_cuda_nvrtc_cu12-12.4.127-py3-none-manylinux2014_x86_64.whl (24.6 MB)\n",
      "\u001b[2K   \u001b[90m━━━━━━━━━━━━━━━━━━━━━━━━━━━━━━━━━━━━━━━━\u001b[0m \u001b[32m24.6/24.6 MB\u001b[0m \u001b[31m85.8 MB/s\u001b[0m eta \u001b[36m0:00:00\u001b[0m:00:01\u001b[0m00:01\u001b[0m\n",
      "\u001b[?25hDownloading nvidia_cuda_runtime_cu12-12.4.127-py3-none-manylinux2014_x86_64.whl (883 kB)\n",
      "\u001b[2K   \u001b[90m━━━━━━━━━━━━━━━━━━━━━━━━━━━━━━━━━━━━━━━━\u001b[0m \u001b[32m883.7/883.7 kB\u001b[0m \u001b[31m43.3 MB/s\u001b[0m eta \u001b[36m0:00:00\u001b[0m\n",
      "\u001b[?25hDownloading nvidia_cudnn_cu12-9.1.0.70-py3-none-manylinux2014_x86_64.whl (664.8 MB)\n",
      "\u001b[2K   \u001b[90m━━━━━━━━━━━━━━━━━━━━━━━━━━━━━━━━━━━━━━━━\u001b[0m \u001b[32m664.8/664.8 MB\u001b[0m \u001b[31m2.3 MB/s\u001b[0m eta \u001b[36m0:00:00\u001b[0m:00:01\u001b[0m00:01\u001b[0m\n",
      "\u001b[?25hDownloading nvidia_cufft_cu12-11.2.1.3-py3-none-manylinux2014_x86_64.whl (211.5 MB)\n",
      "\u001b[2K   \u001b[90m━━━━━━━━━━━━━━━━━━━━━━━━━━━━━━━━━━━━━━━━\u001b[0m \u001b[32m211.5/211.5 MB\u001b[0m \u001b[31m2.0 MB/s\u001b[0m eta \u001b[36m0:00:00\u001b[0m:00:01\u001b[0m00:01\u001b[0m\n",
      "\u001b[?25hDownloading nvidia_curand_cu12-10.3.5.147-py3-none-manylinux2014_x86_64.whl (56.3 MB)\n",
      "\u001b[2K   \u001b[90m━━━━━━━━━━━━━━━━━━━━━━━━━━━━━━━━━━━━━━━━\u001b[0m \u001b[32m56.3/56.3 MB\u001b[0m \u001b[31m31.7 MB/s\u001b[0m eta \u001b[36m0:00:00\u001b[0m:00:01\u001b[0m00:01\u001b[0m\n",
      "\u001b[?25hDownloading nvidia_cusolver_cu12-11.6.1.9-py3-none-manylinux2014_x86_64.whl (127.9 MB)\n",
      "\u001b[2K   \u001b[90m━━━━━━━━━━━━━━━━━━━━━━━━━━━━━━━━━━━━━━━━\u001b[0m \u001b[32m127.9/127.9 MB\u001b[0m \u001b[31m13.5 MB/s\u001b[0m eta \u001b[36m0:00:00\u001b[0m00:01\u001b[0m00:01\u001b[0m\n",
      "\u001b[?25hDownloading nvidia_cusparse_cu12-12.3.1.170-py3-none-manylinux2014_x86_64.whl (207.5 MB)\n",
      "\u001b[2K   \u001b[90m━━━━━━━━━━━━━━━━━━━━━━━━━━━━━━━━━━━━━━━━\u001b[0m \u001b[32m207.5/207.5 MB\u001b[0m \u001b[31m8.0 MB/s\u001b[0m eta \u001b[36m0:00:00\u001b[0m:00:01\u001b[0m00:01\u001b[0m\n",
      "\u001b[?25hDownloading nvidia_nvjitlink_cu12-12.4.127-py3-none-manylinux2014_x86_64.whl (21.1 MB)\n",
      "\u001b[2K   \u001b[90m━━━━━━━━━━━━━━━━━━━━━━━━━━━━━━━━━━━━━━━━\u001b[0m \u001b[32m21.1/21.1 MB\u001b[0m \u001b[31m64.9 MB/s\u001b[0m eta \u001b[36m0:00:00\u001b[0m:00:01\u001b[0m00:01\u001b[0m\n",
      "\u001b[?25hDownloading python_dotenv-1.1.1-py3-none-any.whl (20 kB)\n",
      "Installing collected packages: requests, python-dotenv, pypdf, nvidia-nvjitlink-cu12, nvidia-curand-cu12, nvidia-cufft-cu12, nvidia-cuda-runtime-cu12, nvidia-cuda-nvrtc-cu12, nvidia-cuda-cupti-cu12, nvidia-cublas-cu12, httpx-sse, nvidia-cusparse-cu12, nvidia-cudnn-cu12, huggingface-hub, pydantic-settings, nvidia-cusolver-cu12, langchain-core, langchain-text-splitters, langchain-huggingface, langchain, sentence-transformers, rank_bm25, langchain-community, faiss-cpu\n",
      "  Attempting uninstall: requests\n",
      "    Found existing installation: requests 2.32.4\n",
      "    Uninstalling requests-2.32.4:\n",
      "      Successfully uninstalled requests-2.32.4\n",
      "  Attempting uninstall: pypdf\n",
      "    Found existing installation: pypdf 5.7.0\n",
      "    Uninstalling pypdf-5.7.0:\n",
      "      Successfully uninstalled pypdf-5.7.0\n",
      "  Attempting uninstall: nvidia-nvjitlink-cu12\n",
      "    Found existing installation: nvidia-nvjitlink-cu12 12.5.82\n",
      "    Uninstalling nvidia-nvjitlink-cu12-12.5.82:\n",
      "      Successfully uninstalled nvidia-nvjitlink-cu12-12.5.82\n",
      "  Attempting uninstall: nvidia-curand-cu12\n",
      "    Found existing installation: nvidia-curand-cu12 10.3.6.82\n",
      "    Uninstalling nvidia-curand-cu12-10.3.6.82:\n",
      "      Successfully uninstalled nvidia-curand-cu12-10.3.6.82\n",
      "  Attempting uninstall: nvidia-cufft-cu12\n",
      "    Found existing installation: nvidia-cufft-cu12 11.2.3.61\n",
      "    Uninstalling nvidia-cufft-cu12-11.2.3.61:\n",
      "      Successfully uninstalled nvidia-cufft-cu12-11.2.3.61\n",
      "  Attempting uninstall: nvidia-cuda-runtime-cu12\n",
      "    Found existing installation: nvidia-cuda-runtime-cu12 12.5.82\n",
      "    Uninstalling nvidia-cuda-runtime-cu12-12.5.82:\n",
      "      Successfully uninstalled nvidia-cuda-runtime-cu12-12.5.82\n",
      "  Attempting uninstall: nvidia-cuda-nvrtc-cu12\n",
      "    Found existing installation: nvidia-cuda-nvrtc-cu12 12.5.82\n",
      "    Uninstalling nvidia-cuda-nvrtc-cu12-12.5.82:\n",
      "      Successfully uninstalled nvidia-cuda-nvrtc-cu12-12.5.82\n",
      "  Attempting uninstall: nvidia-cuda-cupti-cu12\n",
      "    Found existing installation: nvidia-cuda-cupti-cu12 12.5.82\n",
      "    Uninstalling nvidia-cuda-cupti-cu12-12.5.82:\n",
      "      Successfully uninstalled nvidia-cuda-cupti-cu12-12.5.82\n",
      "  Attempting uninstall: nvidia-cublas-cu12\n",
      "    Found existing installation: nvidia-cublas-cu12 12.5.3.2\n",
      "    Uninstalling nvidia-cublas-cu12-12.5.3.2:\n",
      "      Successfully uninstalled nvidia-cublas-cu12-12.5.3.2\n",
      "  Attempting uninstall: nvidia-cusparse-cu12\n",
      "    Found existing installation: nvidia-cusparse-cu12 12.5.1.3\n",
      "    Uninstalling nvidia-cusparse-cu12-12.5.1.3:\n",
      "      Successfully uninstalled nvidia-cusparse-cu12-12.5.1.3\n",
      "  Attempting uninstall: nvidia-cudnn-cu12\n",
      "    Found existing installation: nvidia-cudnn-cu12 9.3.0.75\n",
      "    Uninstalling nvidia-cudnn-cu12-9.3.0.75:\n",
      "      Successfully uninstalled nvidia-cudnn-cu12-9.3.0.75\n",
      "  Attempting uninstall: huggingface-hub\n",
      "    Found existing installation: huggingface-hub 0.33.1\n",
      "    Uninstalling huggingface-hub-0.33.1:\n",
      "      Successfully uninstalled huggingface-hub-0.33.1\n",
      "  Attempting uninstall: nvidia-cusolver-cu12\n",
      "    Found existing installation: nvidia-cusolver-cu12 11.6.3.83\n",
      "    Uninstalling nvidia-cusolver-cu12-11.6.3.83:\n",
      "      Successfully uninstalled nvidia-cusolver-cu12-11.6.3.83\n",
      "  Attempting uninstall: langchain-core\n",
      "    Found existing installation: langchain-core 0.3.66\n",
      "    Uninstalling langchain-core-0.3.66:\n",
      "      Successfully uninstalled langchain-core-0.3.66\n",
      "  Attempting uninstall: langchain-text-splitters\n",
      "    Found existing installation: langchain-text-splitters 0.3.8\n",
      "    Uninstalling langchain-text-splitters-0.3.8:\n",
      "      Successfully uninstalled langchain-text-splitters-0.3.8\n",
      "  Attempting uninstall: langchain\n",
      "    Found existing installation: langchain 0.3.26\n",
      "    Uninstalling langchain-0.3.26:\n",
      "      Successfully uninstalled langchain-0.3.26\n",
      "  Attempting uninstall: sentence-transformers\n",
      "    Found existing installation: sentence-transformers 4.1.0\n",
      "    Uninstalling sentence-transformers-4.1.0:\n",
      "      Successfully uninstalled sentence-transformers-4.1.0\n",
      "\u001b[31mERROR: pip's dependency resolver does not currently take into account all the packages that are installed. This behaviour is the source of the following dependency conflicts.\n",
      "bigframes 2.8.0 requires google-cloud-bigquery-storage<3.0.0,>=2.30.0, which is not installed.\n",
      "datasets 3.6.0 requires fsspec[http]<=2025.3.0,>=2023.1.0, but you have fsspec 2025.5.1 which is incompatible.\n",
      "google-colab 1.0.0 requires google-auth==2.38.0, but you have google-auth 2.40.3 which is incompatible.\n",
      "google-colab 1.0.0 requires notebook==6.5.7, but you have notebook 6.5.4 which is incompatible.\n",
      "google-colab 1.0.0 requires pandas==2.2.2, but you have pandas 2.2.3 which is incompatible.\n",
      "google-colab 1.0.0 requires requests==2.32.3, but you have requests 2.32.5 which is incompatible.\n",
      "google-colab 1.0.0 requires tornado==6.4.2, but you have tornado 6.5.1 which is incompatible.\n",
      "pandas-gbq 0.29.1 requires google-api-core<3.0.0,>=2.10.2, but you have google-api-core 1.34.1 which is incompatible.\n",
      "gcsfs 2025.3.2 requires fsspec==2025.3.2, but you have fsspec 2025.5.1 which is incompatible.\n",
      "google-cloud-storage 2.19.0 requires google-api-core<3.0.0dev,>=2.15.0, but you have google-api-core 1.34.1 which is incompatible.\n",
      "dataproc-spark-connect 0.7.5 requires google-api-core>=2.19, but you have google-api-core 1.34.1 which is incompatible.\n",
      "bigframes 2.8.0 requires google-cloud-bigquery[bqstorage,pandas]>=3.31.0, but you have google-cloud-bigquery 3.25.0 which is incompatible.\n",
      "bigframes 2.8.0 requires rich<14,>=12.4.4, but you have rich 14.0.0 which is incompatible.\n",
      "jupyter-kernel-gateway 2.5.2 requires jupyter-client<8.0,>=5.2.0, but you have jupyter-client 8.6.3 which is incompatible.\u001b[0m\u001b[31m\n",
      "\u001b[0mSuccessfully installed faiss-cpu-1.12.0 httpx-sse-0.4.1 huggingface-hub-0.34.4 langchain-0.3.27 langchain-community-0.3.29 langchain-core-0.3.75 langchain-huggingface-0.3.1 langchain-text-splitters-0.3.11 nvidia-cublas-cu12-12.4.5.8 nvidia-cuda-cupti-cu12-12.4.127 nvidia-cuda-nvrtc-cu12-12.4.127 nvidia-cuda-runtime-cu12-12.4.127 nvidia-cudnn-cu12-9.1.0.70 nvidia-cufft-cu12-11.2.1.3 nvidia-curand-cu12-10.3.5.147 nvidia-cusolver-cu12-11.6.1.9 nvidia-cusparse-cu12-12.3.1.170 nvidia-nvjitlink-cu12-12.4.127 pydantic-settings-2.10.1 pypdf-6.0.0 python-dotenv-1.1.1 rank_bm25-0.2.2 requests-2.32.5 sentence-transformers-5.1.0\n"
     ]
    }
   ],
   "source": [
    "!pip install -U langchain langchain-community langchain-huggingface pypdf sentence-transformers faiss-cpu rank_bm25\n"
   ]
  },
  {
   "cell_type": "markdown",
   "metadata": {},
   "source": [
    "# Setup"
   ]
  },
  {
   "cell_type": "markdown",
   "metadata": {},
   "source": [
    "## HF Token"
   ]
  },
  {
   "cell_type": "code",
   "execution_count": null,
   "metadata": {
    "execution": {
     "iopub.execute_input": "2025-09-04T13:07:49.996733Z",
     "iopub.status.busy": "2025-09-04T13:07:49.996502Z",
     "iopub.status.idle": "2025-09-04T13:07:50.000846Z",
     "shell.execute_reply": "2025-09-04T13:07:50.000235Z",
     "shell.execute_reply.started": "2025-09-04T13:07:49.996710Z"
    },
    "trusted": true
   },
   "outputs": [],
   "source": [
    "import os\n",
    "\n",
    "# WARNING: Insecure for public notebooks.\n",
    "os.environ[\"HUGGINGFACEHUB_API_TOKEN\"] = \"Please put HF_TOKEN\""
   ]
  },
  {
   "cell_type": "markdown",
   "metadata": {},
   "source": [
    "## Model Config"
   ]
  },
  {
   "cell_type": "code",
   "execution_count": 3,
   "metadata": {
    "_cell_guid": "b1076dfc-b9ad-4769-8c92-a6c4dae69d19",
    "_uuid": "8f2839f25d086af736a60e9eeb907d3b93b6e0e5",
    "execution": {
     "iopub.execute_input": "2025-09-04T13:07:50.004365Z",
     "iopub.status.busy": "2025-09-04T13:07:50.004082Z",
     "iopub.status.idle": "2025-09-04T13:07:50.022778Z",
     "shell.execute_reply": "2025-09-04T13:07:50.022051Z",
     "shell.execute_reply.started": "2025-09-04T13:07:50.004338Z"
    },
    "trusted": true
   },
   "outputs": [],
   "source": [
    "# Update this path for your Kaggle environment\n",
    "PDF_PATH = \"/kaggle/input/Zerodha_varsity.pdf\" \n",
    "EMBEDDING_MODEL_NAME = \"BAAI/bge-large-en-v1.5\"\n",
    "RERANKER_MODEL_NAME = \"cross-encoder/ms-marco-MiniLM-L-6-v2\"\n",
    "LLM_REPO_ID = \"meta-llama/Meta-Llama-3-8B-Instruct\""
   ]
  },
  {
   "cell_type": "markdown",
   "metadata": {},
   "source": [
    "# Loading Document and Chunking"
   ]
  },
  {
   "cell_type": "code",
   "execution_count": 4,
   "metadata": {
    "_cell_guid": "b1076dfc-b9ad-4769-8c92-a6c4dae69d19",
    "_uuid": "8f2839f25d086af736a60e9eeb907d3b93b6e0e5",
    "execution": {
     "iopub.execute_input": "2025-09-04T13:08:00.230620Z",
     "iopub.status.busy": "2025-09-04T13:08:00.229880Z",
     "iopub.status.idle": "2025-09-04T13:08:49.567421Z",
     "shell.execute_reply": "2025-09-04T13:08:49.566690Z",
     "shell.execute_reply.started": "2025-09-04T13:08:00.230594Z"
    },
    "trusted": true
   },
   "outputs": [
    {
     "name": "stdout",
     "output_type": "stream",
     "text": [
      "Loaded 1909 pages from PDF.\n",
      "Split document into 3710 chunks.\n"
     ]
    }
   ],
   "source": [
    "from langchain_community.document_loaders import PyPDFLoader\n",
    "from langchain.text_splitter import RecursiveCharacterTextSplitter\n",
    "\n",
    "# Loading\n",
    "loader = PyPDFLoader(PDF_PATH)\n",
    "docs = loader.load()\n",
    "print(f\"Loaded {len(docs)} pages from PDF.\")\n",
    "\n",
    "# Chunking\n",
    "text_splitter = RecursiveCharacterTextSplitter(chunk_size=1000, chunk_overlap=150)\n",
    "chunks = text_splitter.split_documents(docs)\n",
    "print(f\"Split document into {len(chunks)} chunks.\")"
   ]
  },
  {
   "cell_type": "markdown",
   "metadata": {},
   "source": [
    "# Advanced Retriever Setup"
   ]
  },
  {
   "cell_type": "markdown",
   "metadata": {},
   "source": [
    "## Rertievers Setup"
   ]
  },
  {
   "cell_type": "code",
   "execution_count": 5,
   "metadata": {
    "_cell_guid": "b1076dfc-b9ad-4769-8c92-a6c4dae69d19",
    "_uuid": "8f2839f25d086af736a60e9eeb907d3b93b6e0e5",
    "execution": {
     "iopub.execute_input": "2025-09-04T13:10:43.928744Z",
     "iopub.status.busy": "2025-09-04T13:10:43.927835Z",
     "iopub.status.idle": "2025-09-04T13:12:43.360573Z",
     "shell.execute_reply": "2025-09-04T13:12:43.359732Z",
     "shell.execute_reply.started": "2025-09-04T13:10:43.928718Z"
    },
    "trusted": true
   },
   "outputs": [
    {
     "name": "stderr",
     "output_type": "stream",
     "text": [
      "2025-09-04 13:10:56.288741: E external/local_xla/xla/stream_executor/cuda/cuda_fft.cc:477] Unable to register cuFFT factory: Attempting to register factory for plugin cuFFT when one has already been registered\n",
      "WARNING: All log messages before absl::InitializeLog() is called are written to STDERR\n",
      "E0000 00:00:1756991456.453119      36 cuda_dnn.cc:8310] Unable to register cuDNN factory: Attempting to register factory for plugin cuDNN when one has already been registered\n",
      "E0000 00:00:1756991456.502796      36 cuda_blas.cc:1418] Unable to register cuBLAS factory: Attempting to register factory for plugin cuBLAS when one has already been registered\n"
     ]
    },
    {
     "data": {
      "application/vnd.jupyter.widget-view+json": {
       "model_id": "535b7a7893e64561a9fdf648fb37efdb",
       "version_major": 2,
       "version_minor": 0
      },
      "text/plain": [
       "modules.json:   0%|          | 0.00/349 [00:00<?, ?B/s]"
      ]
     },
     "metadata": {},
     "output_type": "display_data"
    },
    {
     "data": {
      "application/vnd.jupyter.widget-view+json": {
       "model_id": "5ae26c059d8246be892f9a843dcde475",
       "version_major": 2,
       "version_minor": 0
      },
      "text/plain": [
       "config_sentence_transformers.json:   0%|          | 0.00/124 [00:00<?, ?B/s]"
      ]
     },
     "metadata": {},
     "output_type": "display_data"
    },
    {
     "data": {
      "application/vnd.jupyter.widget-view+json": {
       "model_id": "75344675c0ec440ab8c358d144359783",
       "version_major": 2,
       "version_minor": 0
      },
      "text/plain": [
       "README.md: 0.00B [00:00, ?B/s]"
      ]
     },
     "metadata": {},
     "output_type": "display_data"
    },
    {
     "data": {
      "application/vnd.jupyter.widget-view+json": {
       "model_id": "5b5f35df4a334b4ebd732a56e5adb4ea",
       "version_major": 2,
       "version_minor": 0
      },
      "text/plain": [
       "sentence_bert_config.json:   0%|          | 0.00/52.0 [00:00<?, ?B/s]"
      ]
     },
     "metadata": {},
     "output_type": "display_data"
    },
    {
     "data": {
      "application/vnd.jupyter.widget-view+json": {
       "model_id": "440b6c7dd54b41f28ba2daf0bb4017e4",
       "version_major": 2,
       "version_minor": 0
      },
      "text/plain": [
       "config.json:   0%|          | 0.00/779 [00:00<?, ?B/s]"
      ]
     },
     "metadata": {},
     "output_type": "display_data"
    },
    {
     "data": {
      "application/vnd.jupyter.widget-view+json": {
       "model_id": "e3b0deeecd084d6891f3ea22ac7c25ac",
       "version_major": 2,
       "version_minor": 0
      },
      "text/plain": [
       "model.safetensors:   0%|          | 0.00/1.34G [00:00<?, ?B/s]"
      ]
     },
     "metadata": {},
     "output_type": "display_data"
    },
    {
     "data": {
      "application/vnd.jupyter.widget-view+json": {
       "model_id": "82a1f3efcb414a5d8cc8baf191806eee",
       "version_major": 2,
       "version_minor": 0
      },
      "text/plain": [
       "tokenizer_config.json:   0%|          | 0.00/366 [00:00<?, ?B/s]"
      ]
     },
     "metadata": {},
     "output_type": "display_data"
    },
    {
     "data": {
      "application/vnd.jupyter.widget-view+json": {
       "model_id": "aa993173f1db400f86f0b400bdcdcc90",
       "version_major": 2,
       "version_minor": 0
      },
      "text/plain": [
       "vocab.txt: 0.00B [00:00, ?B/s]"
      ]
     },
     "metadata": {},
     "output_type": "display_data"
    },
    {
     "data": {
      "application/vnd.jupyter.widget-view+json": {
       "model_id": "b9da4481ce8240879069055b1412d00d",
       "version_major": 2,
       "version_minor": 0
      },
      "text/plain": [
       "tokenizer.json: 0.00B [00:00, ?B/s]"
      ]
     },
     "metadata": {},
     "output_type": "display_data"
    },
    {
     "data": {
      "application/vnd.jupyter.widget-view+json": {
       "model_id": "631de1b311044509825d24a3436f9864",
       "version_major": 2,
       "version_minor": 0
      },
      "text/plain": [
       "special_tokens_map.json:   0%|          | 0.00/125 [00:00<?, ?B/s]"
      ]
     },
     "metadata": {},
     "output_type": "display_data"
    },
    {
     "data": {
      "application/vnd.jupyter.widget-view+json": {
       "model_id": "4c58bbf0a2d0416eb90b67223de09f7c",
       "version_major": 2,
       "version_minor": 0
      },
      "text/plain": [
       "config.json:   0%|          | 0.00/191 [00:00<?, ?B/s]"
      ]
     },
     "metadata": {},
     "output_type": "display_data"
    },
    {
     "name": "stdout",
     "output_type": "stream",
     "text": [
      "Hybrid retriever created.\n"
     ]
    }
   ],
   "source": [
    "from langchain_huggingface import HuggingFaceEmbeddings\n",
    "from langchain_community.vectorstores import FAISS\n",
    "from langchain.retrievers import BM25Retriever, EnsembleRetriever\n",
    "from langchain.retrievers import ContextualCompressionRetriever\n",
    "from langchain.retrievers.document_compressors import CrossEncoderReranker\n",
    "from langchain_community.cross_encoders import HuggingFaceCrossEncoder\n",
    "\n",
    "# Embedding Model\n",
    "embedding_function = HuggingFaceEmbeddings(model_name=EMBEDDING_MODEL_NAME)\n",
    "vectorstore = FAISS.from_documents(chunks, embedding_function)\n",
    "\n",
    "# Keyword Matching Model\n",
    "vector_retriever = vectorstore.as_retriever(search_kwargs={\"k\": 10})\n",
    "keyword_retriever = BM25Retriever.from_documents(chunks)\n",
    "keyword_retriever.k = 10\n",
    "\n",
    "# Combining both into a Hybrid Retriever\n",
    "hybrid_retriever = EnsembleRetriever(\n",
    "    retrievers=[keyword_retriever, vector_retriever],\n",
    "    weights=[0.5, 0.5],\n",
    "    c = 10 # 'k' in Reciprocal Rank Fusion algorithm\n",
    ")\n",
    "print(\"Hybrid retriever created.\")"
   ]
  },
  {
   "cell_type": "code",
   "execution_count": 15,
   "metadata": {
    "execution": {
     "iopub.execute_input": "2025-09-04T13:27:31.380178Z",
     "iopub.status.busy": "2025-09-04T13:27:31.379880Z",
     "iopub.status.idle": "2025-09-04T13:27:31.413081Z",
     "shell.execute_reply": "2025-09-04T13:27:31.412346Z",
     "shell.execute_reply.started": "2025-09-04T13:27:31.380158Z"
    },
    "scrolled": true,
    "trusted": true
   },
   "outputs": [
    {
     "data": {
      "text/plain": [
       "[Document(metadata={'producer': 'PyPDF', 'creator': 'PyPDF', 'creationdate': '', 'moddate': '2021-11-29T10:51:08+04:00', 'source': '/kaggle/input/Zerodha_varsity.pdf', 'total_pages': 1909, 'page': 108, 'page_label': '109'}, page_content='CHAPTER 1 4 \\n \\nSupplementary  Note \\n \\nIPO, OFS, and FPO – How are they different?  \\nIPO \\nInitial Public Offering is w hen a company is introduced in to the publicly traded stock \\nmarkets for the very first time. In the IPO, the promoters of the company choose to offer \\na certain percentage of shares to the public. The reason for going public and the \\nprocess of an IPO is exp lained in detail in Chapter 4 and 5.  \\nThe primary reason for going public is to raise capital which would be to fund expansion \\nprojects or cash out early investors. After the IPO is listed on the exchange and is traded \\nin the secondary market, promoters of the company might still want additional capital \\nfor which there are three options available: Rights Issue, Offer for Sale and Follow -on \\nPublic Offer'),\n",
       " Document(metadata={'producer': 'PyPDF', 'creator': 'PyPDF', 'creationdate': '', 'moddate': '2021-11-29T10:51:08+04:00', 'source': '/kaggle/input/Zerodha_varsity.pdf', 'total_pages': 1909, 'page': 39, 'page_label': '40'}, page_content='h.Management details and their background\\n• Market the IPO – This would involve TV and print advertisements in order to build awareness \\nabout the company and its IPO oﬀering. This process is also called the IPO road show\\n35 zerodha.com/varsity'),\n",
       " Document(metadata={'producer': 'PyPDF', 'creator': 'PyPDF', 'creationdate': '', 'moddate': '2021-11-29T10:51:08+04:00', 'source': '/kaggle/input/Zerodha_varsity.pdf', 'total_pages': 1909, 'page': 33, 'page_label': '34'}, page_content='shares to the general public. The general public will subscribe to the shares (i.e if they want to) by \\npaying a certain price. Now, because the company is oﬀering the shares for the first time to the \\npublic, it is called the “Initial Public Oﬀer’ .\\nWe are now at a very crucial juncture, where a few questions needs to be answered..\\n1. Why did the company decide to file for an IPO? In general why do companies go public?\\n2. Why did they not file for the IPO when they were in Series A, B and C situation?\\n3. What would happen to the existing share holders after the IPO?\\n4. What do the general public look for before they subscribe to the IPO?\\n5. How does the IPO process evolve?\\n6. Who are the financial intermediaries involved in the IPO markets?\\n7. What happens after the company goes public?\\nIn the following chapter we will address each of the above questions plus more, and we will also \\ngive you more insights to the IPO Market. For now, hopefully you should have developed a sense'),\n",
       " Document(id='7ebb6c76-747c-491e-af33-73bcffc6b300', metadata={'producer': 'PyPDF', 'creator': 'PyPDF', 'creationdate': '', 'moddate': '2021-11-29T10:51:08+04:00', 'source': '/kaggle/input/Zerodha_varsity.pdf', 'total_pages': 1909, 'page': 35, 'page_label': '36'}, page_content='18.The valuation of the company increases as and when the business , revenues and \\nprofitability increases\\n19.An IPO is a process by means of which a company can raise fund. The funds raised can be for  \\nany valid reason – for CAPEX, restructuring debt, rewarding shareholders etc\\n31 zerodha.com/varsity\\n∏'),\n",
       " Document(metadata={'producer': 'PyPDF', 'creator': 'PyPDF', 'creationdate': '', 'moddate': '2021-11-29T10:51:08+04:00', 'source': '/kaggle/input/Zerodha_varsity.pdf', 'total_pages': 1909, 'page': 43, 'page_label': '44'}, page_content='Key takeaways from this chapter\\n1. Companies go public to raise funds, provide an exit for early investors, reward employees \\nand gain visibility\\n2. Merchant banker acts as a key partner with the company during the IPO process\\n3. SEBI regulates the\\xa0 IPO market and has the\\xa0 final word on whether a company can go public \\nor not\\n4. As an investor in the IPO you should read through the DRHP to know everything about the \\ncompany\\n5. Most of the IPOs in India follow a book building process\\n39 zerodha.com/varsity\\n∏'),\n",
       " Document(id='b7a777e1-923b-4b48-969e-aba9ba08fe68', metadata={'producer': 'PyPDF', 'creator': 'PyPDF', 'creationdate': '', 'moddate': '2021-11-29T10:51:08+04:00', 'source': '/kaggle/input/Zerodha_varsity.pdf', 'total_pages': 1909, 'page': 33, 'page_label': '34'}, page_content='give you more insights to the IPO Market. For now, hopefully you should have developed a sense \\nof how a successful company evolves before they come out to the public to oﬀer their shares.\\nThe purpose of this chapter is to just give you a sense of completeness when one thinks about an \\nIPO.\\n29 zerodha.com/varsity'),\n",
       " Document(id='38d44c6e-2cbf-434a-885d-8eec7e367411', metadata={'producer': 'PyPDF', 'creator': 'PyPDF', 'creationdate': '', 'moddate': '2021-11-29T10:51:08+04:00', 'source': '/kaggle/input/Zerodha_varsity.pdf', 'total_pages': 1909, 'page': 40, 'page_label': '41'}, page_content='point at which the issue gets listed is decided. This price point is usually that price at which \\nmaximum bids have been received.\\n• Listing Day – This is the day when the company actually gets listed on the stock exchange. The \\nlisting price is the price discovered through the book building process.\\n5.5 - What happens after the IPO?\\nDuring the bidding process (also called the date of issue) investors can bid for shares at a particu-\\nlar price within the specified price band.\\xa0 This whole system around the date of issue where one \\nbids for shares is referred to as the Primary Market. The moment the stock gets listed and de-\\nbuts on the stock exchange, the stock starts to trade publicly. This is called the secondary mar-\\nkets.\\nOnce the stock transitions from primary markets to secondary markets, the stock gets traded \\ndaily on the stock exchange. People start buying and selling the stocks regularly.'),\n",
       " Document(metadata={'producer': 'PyPDF', 'creator': 'PyPDF', 'creationdate': '', 'moddate': '2021-11-29T10:51:08+04:00', 'source': '/kaggle/input/Zerodha_varsity.pdf', 'total_pages': 1909, 'page': 2, 'page_label': '3'}, page_content='5.2\\nWhy do companies go public\\n33\\n5.3\\nMerchant bankers\\n34\\n5.4\\nIPO sequence of events\\n35\\n5.5\\nWhat happens after the IPO\\n36\\n5.6\\nFew IPO Jargons\\n36\\n5.7\\nRecent IPO’s in India\\n37\\n6\\nThe Stock Markets\\n40\\n6.1\\nOverview\\n40\\n6.2\\nWhat really is the stock market ?\\n41\\n6.3\\nWhat moves the stock ?\\n42\\n6.4\\nHow does the stock get traded ?\\n44\\n6.5\\nWhat happens after you own a stock ?\\n45\\n6.6\\nA note on the holding period\\n45\\n6.7\\nHow to calculate returns ?\\n46\\n6.8\\nWhere do you fit in ? \\n47\\n7\\nThe Stock Markets Index\\n50\\n7.1\\nOverview\\n50\\n7.2\\nThe Index\\n51\\n7.3\\nPractical uses of the Index\\n51\\n7.4\\nIndex construction methodology\\n53\\n7.5\\nSector specific indices\\n57\\n8\\nCommonly used Jargons\\n59\\n9\\nThe Trading Terminal \\n9.1\\nOverview\\n65\\n65'),\n",
       " Document(id='70120088-21bd-411f-bed2-735a02c5da95', metadata={'producer': 'PyPDF', 'creator': 'PyPDF', 'creationdate': '', 'moddate': '2021-11-29T10:51:08+04:00', 'source': '/kaggle/input/Zerodha_varsity.pdf', 'total_pages': 1909, 'page': 41, 'page_label': '42'}, page_content='the range. Let’s says it gets listed at 125, then 125 is called the cut oﬀ price.\\n Recent IPO’s in India*\\nHere is a look at few recent IPO’s in India. With all the background information you now have, \\nreading Table 5.1 in the following page should be easy\\n37 zerodha.com/varsity'),\n",
       " Document(metadata={'producer': 'PyPDF', 'creator': 'PyPDF', 'creationdate': '', 'moddate': '2021-11-29T10:51:08+04:00', 'source': '/kaggle/input/Zerodha_varsity.pdf', 'total_pages': 1909, 'page': 38, 'page_label': '39'}, page_content='• Underwrite shares – By underwriting shares, merchant bankers essentially agree to buy all or \\npart of the IPO shares and resell the same to public\\n• Help company arrive at the price band for the IPO. A price band is the lower and upper limit of \\nthe share price within which the company will go public. In case of our example, the price band \\nwill be Rs.1562/- and Rs.1875/-\\n• Help the company with the road shows – This is like a promotional/marketing activity for the \\ncompany’s IPO\\n34 zerodha.com/varsity'),\n",
       " Document(metadata={'producer': 'PyPDF', 'creator': 'PyPDF', 'creationdate': '', 'moddate': '2021-11-29T10:51:08+04:00', 'source': '/kaggle/input/Zerodha_varsity.pdf', 'total_pages': 1909, 'page': 40, 'page_label': '41'}, page_content='daily on the stock exchange. People start buying and selling the stocks regularly.\\nWhy do people trade? Why does the stock price fluctuate? Well, we will answer all these ques-\\ntions and more in the subsequent chapters.\\n5.6 Few key IPO jargons\\nBefore we wrap up the chapter on IPO’s let us review few important IPO jargons.\\n\\xa0\\n  Under Subscription – Let’s say the company wants to oﬀer 100,000 shares to the public. Dur-\\ning the book building process it is discovered that only 90,000 bids were received, then the issue \\n36 zerodha.com/varsity'),\n",
       " Document(id='0e920364-1db0-4b82-b0ff-e2f57a481184', metadata={'producer': 'PyPDF', 'creator': 'PyPDF', 'creationdate': '', 'moddate': '2021-11-29T10:51:08+04:00', 'source': '/kaggle/input/Zerodha_varsity.pdf', 'total_pages': 1909, 'page': 32, 'page_label': '33'}, page_content='2. Raise Series D from another PE fund\\n3. Raise debt from bankers\\n4. Float a bond (this is another form of raising debt)\\n5. File for an Initial Public Oﬀer (IPO) by allotting shares from authorized capital\\n6. A combination of all the above\\nFor sake of convenience, let us assume the company decides to fund the capex partly through in-\\nternal accruals and also file for an IPO. When a company files for an IPO, they have to oﬀer their \\n28 zerodha.com/varsity'),\n",
       " Document(metadata={'producer': 'PyPDF', 'creator': 'PyPDF', 'creationdate': '', 'moddate': '2021-11-29T10:51:08+04:00', 'source': '/kaggle/input/Zerodha_varsity.pdf', 'total_pages': 1909, 'page': 39, 'page_label': '40'}, page_content='• Appointment of other intermediaries namely, registrars, bankers, advertising agencies etc. The \\nLead manager also makes various marketing strategies for the issue\\nOnce the company partners with the merchant banker, they will work towards taking the com-\\npany public.\\n5.4 - IPO sequence of events\\nNeedless to say each and every step involved in the IPO sequence has to happen under the SEBI \\nguidelines. In general, the following are the sequence of steps involved.\\n• Appoint a merchant banker. In case of a large public issue, the company can appoint more \\nthan 1 merchant banker\\n• Apply to SEBI with a registration statement – The registration statement contains details on \\nwhat the company does, why the company plans to go public and the financial health of the \\ncompany\\n• Getting a nod from SEBI – Once SEBI receives the registration statement, SEBI takes a call on \\nwhether to issue a go ahead or a ‘no go’ to the IPO'),\n",
       " Document(metadata={'producer': 'PyPDF', 'creator': 'PyPDF', 'creationdate': '', 'moddate': '2021-11-29T10:51:08+04:00', 'source': '/kaggle/input/Zerodha_varsity.pdf', 'total_pages': 1909, 'page': 41, 'page_label': '42'}, page_content='is said to be under subscribed. This is not a great situation to be in as it indicates negative public \\nsentiment\\n\\xa0\\n  Over subscription – If there are 200,000 bids for 100,000 shares on oﬀer then the issue is said \\nto be oversubscribed 2 times (2x)\\n\\xa0\\n  Green Shoe Option - Part of the underwriting agreement which allows the issuer to author-\\nize additional shares (typically 15 percent) to be distributed in the event of over subscription. \\nThis is also called the over allotment option\\n\\xa0\\n  Fixed Price IPO –Sometimes the companies fix the price of the IPO and do not opt for a price \\nband. Such issues are called fixed price IPO\\n\\xa0\\n  Price Band and Cut oﬀ price –Price band is a price range between which the stock gets \\nlisted. For example if the price band is between Rs.100 and Rs.130, then the issue can list within \\nthe range. Let’s says it gets listed at 125, then 125 is called the cut oﬀ price.\\n Recent IPO’s in India*'),\n",
       " Document(id='f947e75e-c6e6-41e6-8bb3-c6a41d7a091a', metadata={'producer': 'PyPDF', 'creator': 'PyPDF', 'creationdate': '', 'moddate': '2021-11-29T10:51:08+04:00', 'source': '/kaggle/input/Zerodha_varsity.pdf', 'total_pages': 1909, 'page': 109, 'page_label': '110'}, page_content='above will be settled by the exchange into the investor Demat account in T+1 Days.  \\nAn example of an Offer for Sale is NTPC limited which offered a max imum of 46.35 \\nmillion shares at a floor price of Rs 168 and was fully subscribed in the 2 day period. \\nThe OFS was held on 29th August 2017 for Non -Retail Investors and 30th August 2017.'),\n",
       " Document(metadata={'producer': 'PyPDF', 'creator': 'PyPDF', 'creationdate': '', 'moddate': '2021-11-29T10:51:08+04:00', 'source': '/kaggle/input/Zerodha_varsity.pdf', 'total_pages': 1909, 'page': 39, 'page_label': '40'}, page_content='• Getting a nod from SEBI – Once SEBI receives the registration statement, SEBI takes a call on \\nwhether to issue a go ahead or a ‘no go’ to the IPO\\n• DRHP – If the company gets the initial SEBI nod, then the company needs to prepare the DRHP . \\nA DRHP is a document that gets circulated to the public. Along with a lot of information, DRHP \\nshould contain the following details..\\na.The estimated size of the IPO\\nb.The estimated number of shares being oﬀered to public\\nc.Why the company wants to go public and how does the company plan to utilize the funds \\nalong with the timeline projection of fund utilization\\nd.Business description including the revenue model, expenditure details\\ne.Complete financial statements\\nf.Management Discussion and Analysis – how the company perceives the future business op-\\nerations to emerge\\ng.Risks involved in the business\\nh.Management details and their background\\n• Market the IPO – This would involve TV and print advertisements in order to build awareness'),\n",
       " Document(id='e1c92c9b-f349-4aa2-9725-7e5acc53dd2a', metadata={'producer': 'PyPDF', 'creator': 'PyPDF', 'creationdate': '', 'moddate': '2021-11-29T10:51:08+04:00', 'source': '/kaggle/input/Zerodha_varsity.pdf', 'total_pages': 1909, 'page': 44, 'page_label': '45'}, page_content='6.1 - Overview\\nHaving understood the IPO process and what really goes behind the company’s transition from \\nprimary to secondary market we are now set to explore the stock markets a step further.\\nBy virtue of being a public company, the company is now liable to disclose all information related \\nto the company to the public. The shares of a public limited company are traded on the stock ex-\\nchanges on a daily basis.\\nThere are few reasons why market participants trade stocks. We will explore these reasons in this \\nchapter.\\n40\\nCHAPTER 6\\nzerodha.com/varsity\\nThe Stock Markets')]"
      ]
     },
     "execution_count": 15,
     "metadata": {},
     "output_type": "execute_result"
    }
   ],
   "source": [
    "hybrid_retriever.invoke(\"IPO\")"
   ]
  },
  {
   "cell_type": "markdown",
   "metadata": {},
   "source": [
    "## Re-Ranking setup"
   ]
  },
  {
   "cell_type": "code",
   "execution_count": 16,
   "metadata": {
    "_cell_guid": "b1076dfc-b9ad-4769-8c92-a6c4dae69d19",
    "_uuid": "8f2839f25d086af736a60e9eeb907d3b93b6e0e5",
    "execution": {
     "iopub.execute_input": "2025-09-04T13:30:24.356329Z",
     "iopub.status.busy": "2025-09-04T13:30:24.355991Z",
     "iopub.status.idle": "2025-09-04T13:30:25.448559Z",
     "shell.execute_reply": "2025-09-04T13:30:25.447777Z",
     "shell.execute_reply.started": "2025-09-04T13:30:24.356286Z"
    },
    "trusted": true
   },
   "outputs": [
    {
     "name": "stdout",
     "output_type": "stream",
     "text": [
      "Reranking compression retriever created.\n"
     ]
    }
   ],
   "source": [
    "# --- 4.3. Setup Reranking ---\n",
    "reranker_model = HuggingFaceCrossEncoder(model_name=RERANKER_MODEL_NAME) # reranks all chunks retrieved by hybrid_retriever\n",
    "compressor = CrossEncoderReranker(model=reranker_model, top_n=5) # takes top 5 chunks, drops others\n",
    "\n",
    "compression_retriever = ContextualCompressionRetriever( # Needs base retriever(FAISS + BM25) and compressor(Reranker)\n",
    "    base_compressor=compressor,\n",
    "    base_retriever=hybrid_retriever\n",
    ")\n",
    "print(\"Reranking compression retriever created.\")\n",
    "\n",
    "# compression_retriever(hybrid_retriever(FAISS, BM25), compressor(BAAI, n=5))"
   ]
  },
  {
   "cell_type": "code",
   "execution_count": 17,
   "metadata": {
    "execution": {
     "iopub.execute_input": "2025-09-04T13:30:27.679104Z",
     "iopub.status.busy": "2025-09-04T13:30:27.678817Z",
     "iopub.status.idle": "2025-09-04T13:30:27.747692Z",
     "shell.execute_reply": "2025-09-04T13:30:27.746927Z",
     "shell.execute_reply.started": "2025-09-04T13:30:27.679084Z"
    },
    "trusted": true
   },
   "outputs": [
    {
     "data": {
      "application/vnd.jupyter.widget-view+json": {
       "model_id": "76a0dbbafa2b405aac6a6787c2f63f6d",
       "version_major": 2,
       "version_minor": 0
      },
      "text/plain": [
       "Batches:   0%|          | 0/1 [00:00<?, ?it/s]"
      ]
     },
     "metadata": {},
     "output_type": "display_data"
    },
    {
     "data": {
      "text/plain": [
       "[Document(id='7ebb6c76-747c-491e-af33-73bcffc6b300', metadata={'producer': 'PyPDF', 'creator': 'PyPDF', 'creationdate': '', 'moddate': '2021-11-29T10:51:08+04:00', 'source': '/kaggle/input/Zerodha_varsity.pdf', 'total_pages': 1909, 'page': 35, 'page_label': '36'}, page_content='18.The valuation of the company increases as and when the business , revenues and \\nprofitability increases\\n19.An IPO is a process by means of which a company can raise fund. The funds raised can be for  \\nany valid reason – for CAPEX, restructuring debt, rewarding shareholders etc\\n31 zerodha.com/varsity\\n∏'),\n",
       " Document(metadata={'producer': 'PyPDF', 'creator': 'PyPDF', 'creationdate': '', 'moddate': '2021-11-29T10:51:08+04:00', 'source': '/kaggle/input/Zerodha_varsity.pdf', 'total_pages': 1909, 'page': 108, 'page_label': '109'}, page_content='CHAPTER 1 4 \\n \\nSupplementary  Note \\n \\nIPO, OFS, and FPO – How are they different?  \\nIPO \\nInitial Public Offering is w hen a company is introduced in to the publicly traded stock \\nmarkets for the very first time. In the IPO, the promoters of the company choose to offer \\na certain percentage of shares to the public. The reason for going public and the \\nprocess of an IPO is exp lained in detail in Chapter 4 and 5.  \\nThe primary reason for going public is to raise capital which would be to fund expansion \\nprojects or cash out early investors. After the IPO is listed on the exchange and is traded \\nin the secondary market, promoters of the company might still want additional capital \\nfor which there are three options available: Rights Issue, Offer for Sale and Follow -on \\nPublic Offer'),\n",
       " Document(metadata={'producer': 'PyPDF', 'creator': 'PyPDF', 'creationdate': '', 'moddate': '2021-11-29T10:51:08+04:00', 'source': '/kaggle/input/Zerodha_varsity.pdf', 'total_pages': 1909, 'page': 39, 'page_label': '40'}, page_content='h.Management details and their background\\n• Market the IPO – This would involve TV and print advertisements in order to build awareness \\nabout the company and its IPO oﬀering. This process is also called the IPO road show\\n35 zerodha.com/varsity'),\n",
       " Document(id='b7a777e1-923b-4b48-969e-aba9ba08fe68', metadata={'producer': 'PyPDF', 'creator': 'PyPDF', 'creationdate': '', 'moddate': '2021-11-29T10:51:08+04:00', 'source': '/kaggle/input/Zerodha_varsity.pdf', 'total_pages': 1909, 'page': 33, 'page_label': '34'}, page_content='give you more insights to the IPO Market. For now, hopefully you should have developed a sense \\nof how a successful company evolves before they come out to the public to oﬀer their shares.\\nThe purpose of this chapter is to just give you a sense of completeness when one thinks about an \\nIPO.\\n29 zerodha.com/varsity'),\n",
       " Document(metadata={'producer': 'PyPDF', 'creator': 'PyPDF', 'creationdate': '', 'moddate': '2021-11-29T10:51:08+04:00', 'source': '/kaggle/input/Zerodha_varsity.pdf', 'total_pages': 1909, 'page': 43, 'page_label': '44'}, page_content='Key takeaways from this chapter\\n1. Companies go public to raise funds, provide an exit for early investors, reward employees \\nand gain visibility\\n2. Merchant banker acts as a key partner with the company during the IPO process\\n3. SEBI regulates the\\xa0 IPO market and has the\\xa0 final word on whether a company can go public \\nor not\\n4. As an investor in the IPO you should read through the DRHP to know everything about the \\ncompany\\n5. Most of the IPOs in India follow a book building process\\n39 zerodha.com/varsity\\n∏')]"
      ]
     },
     "execution_count": 17,
     "metadata": {},
     "output_type": "execute_result"
    }
   ],
   "source": [
    "compression_retriever.invoke(\"IPO\")"
   ]
  },
  {
   "cell_type": "markdown",
   "metadata": {},
   "source": [
    "# Initializing Model and RAG Pipeline"
   ]
  },
  {
   "cell_type": "code",
   "execution_count": 19,
   "metadata": {
    "_cell_guid": "b1076dfc-b9ad-4769-8c92-a6c4dae69d19",
    "_uuid": "8f2839f25d086af736a60e9eeb907d3b93b6e0e5",
    "execution": {
     "iopub.execute_input": "2025-09-04T13:33:42.918451Z",
     "iopub.status.busy": "2025-09-04T13:33:42.917840Z",
     "iopub.status.idle": "2025-09-04T13:33:43.034873Z",
     "shell.execute_reply": "2025-09-04T13:33:43.034112Z",
     "shell.execute_reply.started": "2025-09-04T13:33:42.918428Z"
    },
    "trusted": true
   },
   "outputs": [
    {
     "name": "stdout",
     "output_type": "stream",
     "text": [
      "Chat LLM 'meta-llama/Meta-Llama-3-8B-Instruct' initialized.\n"
     ]
    }
   ],
   "source": [
    "from langchain_huggingface import HuggingFaceEndpoint\n",
    "from langchain_huggingface.chat_models import ChatHuggingFace\n",
    "from langchain.prompts import ChatPromptTemplate\n",
    "from langchain.chains.combine_documents import create_stuff_documents_chain\n",
    "from langchain.chains import create_retrieval_chain\n",
    "from langchain_core.prompts import ChatPromptTemplate, MessagesPlaceholder\n",
    "from langchain.chains import create_history_aware_retriever\n",
    "\n",
    "# Initializing the base LLM from Hugging Face\n",
    "endpoint_llm = HuggingFaceEndpoint(\n",
    "    repo_id=LLM_REPO_ID, task=\"text-generation\", max_new_tokens=512,\n",
    "    top_k=50, top_p=0.9, temperature=0.6\n",
    ")\n",
    "# Wrap it in the ChatHuggingFace adapter\n",
    "llm = ChatHuggingFace(llm=endpoint_llm)\n",
    "print(f\"Chat LLM '{LLM_REPO_ID}' initialized.\")"
   ]
  },
  {
   "cell_type": "markdown",
   "metadata": {},
   "source": [
    "## Rephrasing question for Memory"
   ]
  },
  {
   "cell_type": "code",
   "execution_count": 20,
   "metadata": {
    "_cell_guid": "b1076dfc-b9ad-4769-8c92-a6c4dae69d19",
    "_uuid": "8f2839f25d086af736a60e9eeb907d3b93b6e0e5",
    "execution": {
     "iopub.execute_input": "2025-09-04T13:34:45.360736Z",
     "iopub.status.busy": "2025-09-04T13:34:45.359974Z",
     "iopub.status.idle": "2025-09-04T13:34:45.366213Z",
     "shell.execute_reply": "2025-09-04T13:34:45.365368Z",
     "shell.execute_reply.started": "2025-09-04T13:34:45.360710Z"
    },
    "trusted": true
   },
   "outputs": [],
   "source": [
    "# Prompt for rephrasing the input question into including past chats\n",
    "contextualize_q_system_prompt = (\n",
    "    \"Given a chat history and the latest user question \"\n",
    "    \"which might reference context in the chat history, \"\n",
    "    \"formulate a standalone question which can be understood \"\n",
    "    \"without the chat history. Do NOT answer the question, \"\n",
    "    \"just reformulate it if needed and otherwise return it as is.\"\n",
    ")\n",
    "\n",
    "contextualize_q_prompt = ChatPromptTemplate.from_messages(\n",
    "    [\n",
    "        (\"system\", contextualize_q_system_prompt),\n",
    "        MessagesPlaceholder(\"chat_history\"),\n",
    "        (\"human\", \"{input}\"),\n",
    "    ]\n",
    ")\n",
    "\n",
    "# This chain will rephrase the question and then retrieve documents\n",
    "history_aware_retriever = create_history_aware_retriever(\n",
    "    llm, compression_retriever, contextualize_q_prompt\n",
    ")\n",
    "\n",
    "# compression_retriever(hybrid_retriever(FAISS, BM25), compressor(BAAI, n=5))\n",
    "# history_aware_retriever(Llama, compression retriever, prompt)"
   ]
  },
  {
   "cell_type": "markdown",
   "metadata": {},
   "source": [
    "## Final Q/A chain formation"
   ]
  },
  {
   "cell_type": "code",
   "execution_count": 21,
   "metadata": {
    "_cell_guid": "b1076dfc-b9ad-4769-8c92-a6c4dae69d19",
    "_uuid": "8f2839f25d086af736a60e9eeb907d3b93b6e0e5",
    "execution": {
     "iopub.execute_input": "2025-09-04T13:35:19.860004Z",
     "iopub.status.busy": "2025-09-04T13:35:19.859199Z",
     "iopub.status.idle": "2025-09-04T13:35:19.866817Z",
     "shell.execute_reply": "2025-09-04T13:35:19.866213Z",
     "shell.execute_reply.started": "2025-09-04T13:35:19.859975Z"
    },
    "trusted": true
   },
   "outputs": [
    {
     "name": "stdout",
     "output_type": "stream",
     "text": [
      "Conversational RAG chain created successfully.\n"
     ]
    }
   ],
   "source": [
    "# New system prompt for the final answer generation\n",
    "qa_system_prompt = (\n",
    "    \"You are an expert financial assistant. Use the following retrieved context to answer the user's question accurately. \"\n",
    "    \"If the information is not in the context, say that you cannot find the answer in the provided documents. \"\n",
    "    \"Be concise and helpful.\"\n",
    "    \"\\n\\n\"\n",
    "    \"{context}\"\n",
    ")\n",
    "\n",
    "qa_prompt = ChatPromptTemplate.from_messages(\n",
    "    [\n",
    "        (\"system\", qa_system_prompt),\n",
    "        MessagesPlaceholder(\"chat_history\"),\n",
    "        (\"human\", \"{input}\"),\n",
    "    ]\n",
    ")\n",
    "\n",
    "# Re-create the document chain with the new prompt\n",
    "question_answer_chain = create_stuff_documents_chain(llm, qa_prompt)\n",
    "\n",
    "# This is your final, conversational RAG chain\n",
    "rag_chain = create_retrieval_chain(history_aware_retriever, question_answer_chain)\n",
    "print(\"Conversational RAG chain created successfully.\")\n",
    "\n",
    "# compression_retriever(hybrid_retriever(FAISS, BM25), compressor(BAAI, n=5)) -> we get 5 chunks (ranked)\n",
    "# history_aware_retriever(Llama, compression retriever, contextualize_qa_prompt) -> 5 chunks + query_rephrased\n",
    "# question_answer_chain(Llama, qa_prompt) -> chat_history + query_rephrased\n",
    "# rag_chain(history_aware_retriever, question_answer_chain) -> we get final output"
   ]
  },
  {
   "cell_type": "markdown",
   "metadata": {},
   "source": [
    "# TESTING"
   ]
  },
  {
   "cell_type": "code",
   "execution_count": 22,
   "metadata": {
    "execution": {
     "iopub.execute_input": "2025-09-04T13:47:30.228262Z",
     "iopub.status.busy": "2025-09-04T13:47:30.227544Z",
     "iopub.status.idle": "2025-09-04T13:47:30.233565Z",
     "shell.execute_reply": "2025-09-04T13:47:30.232985Z",
     "shell.execute_reply.started": "2025-09-04T13:47:30.228237Z"
    },
    "trusted": true
   },
   "outputs": [],
   "source": [
    "from langchain_core.messages import HumanMessage, AIMessage\n",
    "def ask_with_memory(query, chat_history):\n",
    "    response = rag_chain.invoke({\"input\": query, \"chat_history\": chat_history})\n",
    "    print(\"\\nAnswer:\")\n",
    "    print(response[\"answer\"])\n",
    "\n",
    "    # Update history\n",
    "    chat_history.extend([HumanMessage(content=query), AIMessage(content=response[\"answer\"])])\n",
    "    print(\"=\"*100)\n",
    "    print(\"\\nSOURCES:\")\n",
    "    for i, doc in enumerate(response[\"context\"]):\n",
    "        print(f\"\\t Source {i+1} (Page {doc.metadata.get('page', 'N/A')}):\\n \\\"{doc.page_content[:100]}...\\\"\")\n",
    "        print(\"_\"*100)\n",
    "\n",
    "    print(\"#\"*50, \"END\", \"#\"*50)"
   ]
  },
  {
   "cell_type": "code",
   "execution_count": 23,
   "metadata": {
    "execution": {
     "iopub.execute_input": "2025-09-04T13:47:31.365609Z",
     "iopub.status.busy": "2025-09-04T13:47:31.365351Z",
     "iopub.status.idle": "2025-09-04T13:49:48.679962Z",
     "shell.execute_reply": "2025-09-04T13:49:48.679356Z",
     "shell.execute_reply.started": "2025-09-04T13:47:31.365593Z"
    },
    "scrolled": true,
    "trusted": true
   },
   "outputs": [
    {
     "name": "stdout",
     "output_type": "stream",
     "text": [
      "Query:  What are IPOs\n"
     ]
    },
    {
     "data": {
      "application/vnd.jupyter.widget-view+json": {
       "model_id": "c2d56c8aea074c4ba4529f56f8c4d443",
       "version_major": 2,
       "version_minor": 0
      },
      "text/plain": [
       "Batches:   0%|          | 0/1 [00:00<?, ?it/s]"
      ]
     },
     "metadata": {},
     "output_type": "display_data"
    },
    {
     "name": "stdout",
     "output_type": "stream",
     "text": [
      "\n",
      "Answer:\n",
      "According to the provided context, an IPO (Initial Public Offering) is when a company is introduced into the publicly traded stock markets for the first time. In an IPO, the company's promoters choose to offer a certain percentage of shares to the public. The primary reason for going public and the process of an IPO is explained in detail in Chapters 4 and 5. The main purposes of an IPO include:\n",
      "\n",
      "1. Raising capital to fund expansion projects\n",
      "2. Allowing early investors to cash out\n",
      "3. Rewarding employees\n",
      "4. Gaining visibility for the company\n",
      "\n",
      "The context also mentions that merchant bankers act as key partners with the company during the IPO process, and SEBI regulates the IPO market.\n",
      "====================================================================================================\n",
      "\n",
      "SOURCES:\n",
      "\t Source 1 (Page 35):\n",
      " \"18.The valuation of the company increases as and when the business , revenues and \n",
      "profitability inc...\"\n",
      "____________________________________________________________________________________________________\n",
      "\t Source 2 (Page 108):\n",
      " \"CHAPTER 1 4 \n",
      " \n",
      "Supplementary  Note \n",
      " \n",
      "IPO, OFS, and FPO – How are they different?  \n",
      "IPO \n",
      "Initial Pub...\"\n",
      "____________________________________________________________________________________________________\n",
      "\t Source 3 (Page 43):\n",
      " \"Key takeaways from this chapter\n",
      "1. Companies go public to raise funds, provide an exit for early inv...\"\n",
      "____________________________________________________________________________________________________\n",
      "\t Source 4 (Page 458):\n",
      " \"4. Respect Qualitative Research – Character is more important than numbers. \n",
      "Always look at investin...\"\n",
      "____________________________________________________________________________________________________\n",
      "\t Source 5 (Page 39):\n",
      " \"h.Management details and their background\n",
      "• Market the IPO – This would involve TV and print adverti...\"\n",
      "____________________________________________________________________________________________________\n",
      "################################################## END ##################################################\n"
     ]
    },
    {
     "name": "stdout",
     "output_type": "stream",
     "text": [
      "Query:  Tell me more about it\n"
     ]
    },
    {
     "data": {
      "application/vnd.jupyter.widget-view+json": {
       "model_id": "79f88fc30d214b7a99f2c679a499e6c0",
       "version_major": 2,
       "version_minor": 0
      },
      "text/plain": [
       "Batches:   0%|          | 0/1 [00:00<?, ?it/s]"
      ]
     },
     "metadata": {},
     "output_type": "display_data"
    },
    {
     "name": "stdout",
     "output_type": "stream",
     "text": [
      "\n",
      "Answer:\n",
      "Based on the provided context, here are more details about IPOs:\n",
      "\n",
      "1. **Reasons for going public**: Companies go public to raise funds for their capital expenditure (Capex) requirements, to avoid debt and the associated finance charges, and to spread the risk among a large group of people.\n",
      "\n",
      "2. **IPO process**: The IPO process involves several steps:\n",
      "\t* Appointing a merchant banker (also called a Book Running Lead Manager (BRLM)/Lead Manager (LM)) to assist the company with various aspects of the IPO process.\n",
      "\t* Conducting a due diligence on the company by the merchant banker to ensure legal compliance and issuing a due diligence certificate.\n",
      "\t* Preparing the listing documents, including the Draft Red Herring Prospectus (DRHP), under the guidance of the merchant banker.\n",
      "\t* Underwriting shares by the merchant banker, where they agree to buy all or part of the IPO shares and resell them to the public.\n",
      "\t* Filing the DRHP with SEBI and obtaining a nod from SEBI to proceed with the IPO.\n",
      "\t* Preparing and circulating the DRHP to the public, which contains information about the company, its business, financials, management, and risks.\n",
      "\t* Marketing the IPO through TV and print advertisements to build awareness.\n",
      "\n",
      "3. **Key players involved**: The key players involved in the IPO process are:\n",
      "\t* The company: The promoters or founders of the company decide to go public and file for an IPO.\n",
      "\t* Merchant bankers: They assist the company with various aspects of the IPO process, including due diligence, listing documents, and underwriting shares.\n",
      "\t* SEBI: The Securities and Exchange Board of India regulates the IPO market and ensures that the IPO process is fair and transparent.\n",
      "\t* General public: The public can subscribe to the IPO by buying shares from the company.\n",
      "\n",
      "4. **Options after an IPO**: After a company goes public, there are several options available to it, including:\n",
      "\t* Rights issue: The company can issue rights to existing shareholders to buy additional shares at a discounted price.\n",
      "\t* Offer for sale: The company can sell shares to the public through an offer for sale, which allows existing shareholders to sell their shares.\n",
      "\t* Follow-on public offer: The company can issue additional shares to the public through a follow-on public offer.\n",
      "====================================================================================================\n",
      "\n",
      "SOURCES:\n",
      "\t Source 1 (Page 33):\n",
      " \"shares to the general public. The general public will subscribe to the shares (i.e if they want to) ...\"\n",
      "____________________________________________________________________________________________________\n",
      "\t Source 2 (Page 108):\n",
      " \"CHAPTER 1 4 \n",
      " \n",
      "Supplementary  Note \n",
      " \n",
      "IPO, OFS, and FPO – How are they different?  \n",
      "IPO \n",
      "Initial Pub...\"\n",
      "____________________________________________________________________________________________________\n",
      "\t Source 3 (Page 38):\n",
      " \"they raise, better it is for the company.\n",
      "5.3 - Merchant Bankers\n",
      "Having decided to go public, the co...\"\n",
      "____________________________________________________________________________________________________\n",
      "\t Source 4 (Page 37):\n",
      " \"5.2 - Why do companies go public?\n",
      "We closed the previous chapter with few very critical questions. O...\"\n",
      "____________________________________________________________________________________________________\n",
      "\t Source 5 (Page 39):\n",
      " \"• Getting a nod from SEBI – Once SEBI receives the registration statement, SEBI takes a call on \n",
      "whe...\"\n",
      "____________________________________________________________________________________________________\n",
      "################################################## END ##################################################\n"
     ]
    },
    {
     "name": "stdout",
     "output_type": "stream",
     "text": [
      "Query:  Elaborate 1st point more\n"
     ]
    },
    {
     "data": {
      "application/vnd.jupyter.widget-view+json": {
       "model_id": "c3013c5a8050423883aba238cfa31707",
       "version_major": 2,
       "version_minor": 0
      },
      "text/plain": [
       "Batches:   0%|          | 0/1 [00:00<?, ?it/s]"
      ]
     },
     "metadata": {},
     "output_type": "display_data"
    },
    {
     "name": "stdout",
     "output_type": "stream",
     "text": [
      "\n",
      "Answer:\n",
      "The first point I mentioned was:\n",
      "\n",
      "**Reasons for going public**: Companies go public to raise funds for their capital expenditure (Capex) requirements, to avoid debt and the associated finance charges, and to spread the risk among a large group of people.\n",
      "\n",
      "Let me elaborate on each of these reasons:\n",
      "\n",
      "1. **Raising funds for Capex requirements**: Companies often require large amounts of capital to fund their expansion plans, research and development, and other capital expenditure projects. Going public allows them to raise funds from a large number of investors, which can be used to finance these projects.\n",
      "\n",
      "2. **Avoiding debt and finance charges**: By going public, companies can avoid taking on debt to raise funds. This means they don't have to pay interest on loans, which can save them a significant amount of money. Additionally, they don't have to worry about the associated finance charges, which can eat into their profits.\n",
      "\n",
      "3. **Spreading risk among a large group of people**: When a company is private, the risk is borne entirely by the promoters or founders. However, when a company goes public, the risk is spread among a large number of investors, including institutional investors, high net worth individuals, and retail investors. This reduces the financial risk for the promoters, as they are no longer solely responsible for the company's fortunes.\n",
      "\n",
      "The promoter, in particular, benefits from going public, as they are able to:\n",
      "\n",
      "* **Raise funds**: As mentioned earlier, going public allows the promoter to raise funds for their company's growth plans.\n",
      "* **Avoid debt**: By avoiding debt, the promoter can save money on interest payments and finance charges.\n",
      "* **Spread risk**: By spreading the risk among a large number of investors, the promoter reduces their personal financial risk.\n",
      "\n",
      "Overall, going public provides companies and their promoters with a range of benefits, including access to capital, reduced financial risk, and increased visibility and credibility.\n",
      "====================================================================================================\n",
      "\n",
      "SOURCES:\n",
      "\t Source 1 (Page 37):\n",
      " \"5.2 - Why do companies go public?\n",
      "We closed the previous chapter with few very critical questions. O...\"\n",
      "____________________________________________________________________________________________________\n",
      "\t Source 2 (Page 38):\n",
      " \"they raise, better it is for the company.\n",
      "5.3 - Merchant Bankers\n",
      "Having decided to go public, the co...\"\n",
      "____________________________________________________________________________________________________\n",
      "\t Source 3 (Page 109):\n",
      " \"Rights Issue  \n",
      "The promoters can choose to raise additional capital from its existing shareholders b...\"\n",
      "____________________________________________________________________________________________________\n",
      "\t Source 4 (Page 37):\n",
      " \"you also buy risk. So when the company goes public, the promoter is actually spreading his risk \n",
      "amo...\"\n",
      "____________________________________________________________________________________________________\n",
      "\t Source 5 (Page 35):\n",
      " \"18.The valuation of the company increases as and when the business , revenues and \n",
      "profitability inc...\"\n",
      "____________________________________________________________________________________________________\n",
      "################################################## END ##################################################\n"
     ]
    },
    {
     "name": "stdout",
     "output_type": "stream",
     "text": [
      "Query:  STOP\n"
     ]
    }
   ],
   "source": [
    "from langchain_core.messages import HumanMessage, AIMessage\n",
    "\n",
    "# To store the conversation\n",
    "chat_history = []\n",
    "\n",
    "query = str(input(\"Query: \"))\n",
    "while(query!= 'STOP'):\n",
    "    ask_with_memory(query, chat_history)\n",
    "    query = str(input(\"Query: \"))"
   ]
  },
  {
   "cell_type": "code",
   "execution_count": 31,
   "metadata": {
    "execution": {
     "iopub.execute_input": "2025-09-04T14:03:37.703516Z",
     "iopub.status.busy": "2025-09-04T14:03:37.703010Z",
     "iopub.status.idle": "2025-09-04T14:03:37.708396Z",
     "shell.execute_reply": "2025-09-04T14:03:37.707717Z",
     "shell.execute_reply.started": "2025-09-04T14:03:37.703490Z"
    },
    "trusted": true
   },
   "outputs": [
    {
     "data": {
      "text/plain": [
       "AIMessage(content='Based on the provided context, here are more details about IPOs:\\n\\n1. **Reasons for going public**: Companies go public to raise funds for their capital expenditure (Capex) requirements, to avoid debt and the associated finance charges, and to spread the risk among a large group of people.\\n\\n2. **IPO process**: The IPO process involves several steps:\\n\\t* Appointing a merchant banker (also called a Book Running Lead Manager (BRLM)/Lead Manager (LM)) to assist the company with various aspects of the IPO process.\\n\\t* Conducting a due diligence on the company by the merchant banker to ensure legal compliance and issuing a due diligence certificate.\\n\\t* Preparing the listing documents, including the Draft Red Herring Prospectus (DRHP), under the guidance of the merchant banker.\\n\\t* Underwriting shares by the merchant banker, where they agree to buy all or part of the IPO shares and resell them to the public.\\n\\t* Filing the DRHP with SEBI and obtaining a nod from SEBI to proceed with the IPO.\\n\\t* Preparing and circulating the DRHP to the public, which contains information about the company, its business, financials, management, and risks.\\n\\t* Marketing the IPO through TV and print advertisements to build awareness.\\n\\n3. **Key players involved**: The key players involved in the IPO process are:\\n\\t* The company: The promoters or founders of the company decide to go public and file for an IPO.\\n\\t* Merchant bankers: They assist the company with various aspects of the IPO process, including due diligence, listing documents, and underwriting shares.\\n\\t* SEBI: The Securities and Exchange Board of India regulates the IPO market and ensures that the IPO process is fair and transparent.\\n\\t* General public: The public can subscribe to the IPO by buying shares from the company.\\n\\n4. **Options after an IPO**: After a company goes public, there are several options available to it, including:\\n\\t* Rights issue: The company can issue rights to existing shareholders to buy additional shares at a discounted price.\\n\\t* Offer for sale: The company can sell shares to the public through an offer for sale, which allows existing shareholders to sell their shares.\\n\\t* Follow-on public offer: The company can issue additional shares to the public through a follow-on public offer.', additional_kwargs={}, response_metadata={})"
      ]
     },
     "execution_count": 31,
     "metadata": {},
     "output_type": "execute_result"
    }
   ],
   "source": [
    "chat_history[3] # Sample element in 'chat_history'"
   ]
  }
 ],
 "metadata": {
  "kaggle": {
   "accelerator": "gpu",
   "dataSources": [
    {
     "datasetId": 8197426,
     "sourceId": 12952846,
     "sourceType": "datasetVersion"
    }
   ],
   "dockerImageVersionId": 31090,
   "isGpuEnabled": true,
   "isInternetEnabled": true,
   "language": "python",
   "sourceType": "notebook"
  },
  "kernelspec": {
   "display_name": "Python 3",
   "language": "python",
   "name": "python3"
  },
  "language_info": {
   "codemirror_mode": {
    "name": "ipython",
    "version": 3
   },
   "file_extension": ".py",
   "mimetype": "text/x-python",
   "name": "python",
   "nbconvert_exporter": "python",
   "pygments_lexer": "ipython3",
   "version": "3.11.13"
  }
 },
 "nbformat": 4,
 "nbformat_minor": 4
}
