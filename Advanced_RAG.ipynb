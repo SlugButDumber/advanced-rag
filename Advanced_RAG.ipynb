{
 "cells": [
  {
   "cell_type": "code",
   "execution_count": null,
   "metadata": {
    "execution": {
     "iopub.execute_input": "2025-09-04T13:06:26.027550Z",
     "iopub.status.busy": "2025-09-04T13:06:26.027390Z",
     "iopub.status.idle": "2025-09-04T13:07:49.994718Z",
     "shell.execute_reply": "2025-09-04T13:07:49.994005Z",
     "shell.execute_reply.started": "2025-09-04T13:06:26.027534Z"
    },
    "scrolled": true,
    "trusted": true
   },
   "outputs": [],
   "source": [
    "!pip install -U langchain langchain-community langchain-huggingface pypdf sentence-transformers faiss-cpu rank_bm25"
   ]
  },
  {
   "cell_type": "markdown",
   "metadata": {},
   "source": [
    "# Setup"
   ]
  },
  {
   "cell_type": "markdown",
   "metadata": {},
   "source": [
    "## HF Token"
   ]
  },
  {
   "cell_type": "code",
   "execution_count": null,
   "metadata": {
    "execution": {
     "iopub.execute_input": "2025-09-04T13:07:49.996733Z",
     "iopub.status.busy": "2025-09-04T13:07:49.996502Z",
     "iopub.status.idle": "2025-09-04T13:07:50.000846Z",
     "shell.execute_reply": "2025-09-04T13:07:50.000235Z",
     "shell.execute_reply.started": "2025-09-04T13:07:49.996710Z"
    },
    "trusted": true
   },
   "outputs": [],
   "source": [
    "import os\n",
    "\n",
    "# WARNING: Insecure for public notebooks.\n",
    "os.environ[\"HUGGINGFACEHUB_API_TOKEN\"] = \"Please put HF_TOKEN\""
   ]
  },
  {
   "cell_type": "markdown",
   "metadata": {},
   "source": [
    "## Model Config"
   ]
  },
  {
   "cell_type": "code",
   "execution_count": 3,
   "metadata": {
    "_cell_guid": "b1076dfc-b9ad-4769-8c92-a6c4dae69d19",
    "_uuid": "8f2839f25d086af736a60e9eeb907d3b93b6e0e5",
    "execution": {
     "iopub.execute_input": "2025-09-04T13:07:50.004365Z",
     "iopub.status.busy": "2025-09-04T13:07:50.004082Z",
     "iopub.status.idle": "2025-09-04T13:07:50.022778Z",
     "shell.execute_reply": "2025-09-04T13:07:50.022051Z",
     "shell.execute_reply.started": "2025-09-04T13:07:50.004338Z"
    },
    "trusted": true
   },
   "outputs": [],
   "source": [
    "# Update this path for your Kaggle environment\n",
    "PDF_PATH = \"/kaggle/input/Zerodha_varsity.pdf\" \n",
    "EMBEDDING_MODEL_NAME = \"BAAI/bge-large-en-v1.5\"\n",
    "RERANKER_MODEL_NAME = \"cross-encoder/ms-marco-MiniLM-L-6-v2\"\n",
    "LLM_REPO_ID = \"meta-llama/Meta-Llama-3-8B-Instruct\""
   ]
  },
  {
   "cell_type": "markdown",
   "metadata": {},
   "source": [
    "# Loading Document and Chunking"
   ]
  },
  {
   "cell_type": "code",
   "execution_count": 4,
   "metadata": {
    "_cell_guid": "b1076dfc-b9ad-4769-8c92-a6c4dae69d19",
    "_uuid": "8f2839f25d086af736a60e9eeb907d3b93b6e0e5",
    "execution": {
     "iopub.execute_input": "2025-09-04T13:08:00.230620Z",
     "iopub.status.busy": "2025-09-04T13:08:00.229880Z",
     "iopub.status.idle": "2025-09-04T13:08:49.567421Z",
     "shell.execute_reply": "2025-09-04T13:08:49.566690Z",
     "shell.execute_reply.started": "2025-09-04T13:08:00.230594Z"
    },
    "trusted": true
   },
   "outputs": [
    {
     "name": "stdout",
     "output_type": "stream",
     "text": [
      "Loaded 1909 pages from PDF.\n",
      "Split document into 3710 chunks.\n"
     ]
    }
   ],
   "source": [
    "from langchain_community.document_loaders import PyPDFLoader\n",
    "from langchain.text_splitter import RecursiveCharacterTextSplitter\n",
    "\n",
    "# Loading\n",
    "loader = PyPDFLoader(PDF_PATH)\n",
    "docs = loader.load()\n",
    "print(f\"Loaded {len(docs)} pages from PDF.\")\n",
    "\n",
    "# Chunking\n",
    "text_splitter = RecursiveCharacterTextSplitter(chunk_size=1000, chunk_overlap=150)\n",
    "chunks = text_splitter.split_documents(docs)\n",
    "print(f\"Split document into {len(chunks)} chunks.\")"
   ]
  },
  {
   "cell_type": "markdown",
   "metadata": {},
   "source": [
    "# Advanced Retriever Setup"
   ]
  },
  {
   "cell_type": "markdown",
   "metadata": {},
   "source": [
    "## Rertievers Setup"
   ]
  },
  {
   "cell_type": "code",
   "execution_count": 5,
   "metadata": {
    "_cell_guid": "b1076dfc-b9ad-4769-8c92-a6c4dae69d19",
    "_uuid": "8f2839f25d086af736a60e9eeb907d3b93b6e0e5",
    "execution": {
     "iopub.execute_input": "2025-09-04T13:10:43.928744Z",
     "iopub.status.busy": "2025-09-04T13:10:43.927835Z",
     "iopub.status.idle": "2025-09-04T13:12:43.360573Z",
     "shell.execute_reply": "2025-09-04T13:12:43.359732Z",
     "shell.execute_reply.started": "2025-09-04T13:10:43.928718Z"
    },
    "trusted": true
   },
   "outputs": [
    {
     "name": "stderr",
     "output_type": "stream",
     "text": [
      "2025-09-04 13:10:56.288741: E external/local_xla/xla/stream_executor/cuda/cuda_fft.cc:477] Unable to register cuFFT factory: Attempting to register factory for plugin cuFFT when one has already been registered\n",
      "WARNING: All log messages before absl::InitializeLog() is called are written to STDERR\n",
      "E0000 00:00:1756991456.453119      36 cuda_dnn.cc:8310] Unable to register cuDNN factory: Attempting to register factory for plugin cuDNN when one has already been registered\n",
      "E0000 00:00:1756991456.502796      36 cuda_blas.cc:1418] Unable to register cuBLAS factory: Attempting to register factory for plugin cuBLAS when one has already been registered\n"
     ]
    },
    {
     "data": {
      "application/vnd.jupyter.widget-view+json": {
       "model_id": "535b7a7893e64561a9fdf648fb37efdb",
       "version_major": 2,
       "version_minor": 0
      },
      "text/plain": [
       "modules.json:   0%|          | 0.00/349 [00:00<?, ?B/s]"
      ]
     },
     "metadata": {},
     "output_type": "display_data"
    },
    {
     "data": {
      "application/vnd.jupyter.widget-view+json": {
       "model_id": "5ae26c059d8246be892f9a843dcde475",
       "version_major": 2,
       "version_minor": 0
      },
      "text/plain": [
       "config_sentence_transformers.json:   0%|          | 0.00/124 [00:00<?, ?B/s]"
      ]
     },
     "metadata": {},
     "output_type": "display_data"
    },
    {
     "data": {
      "application/vnd.jupyter.widget-view+json": {
       "model_id": "75344675c0ec440ab8c358d144359783",
       "version_major": 2,
       "version_minor": 0
      },
      "text/plain": [
       "README.md: 0.00B [00:00, ?B/s]"
      ]
     },
     "metadata": {},
     "output_type": "display_data"
    },
    {
     "data": {
      "application/vnd.jupyter.widget-view+json": {
       "model_id": "5b5f35df4a334b4ebd732a56e5adb4ea",
       "version_major": 2,
       "version_minor": 0
      },
      "text/plain": [
       "sentence_bert_config.json:   0%|          | 0.00/52.0 [00:00<?, ?B/s]"
      ]
     },
     "metadata": {},
     "output_type": "display_data"
    },
    {
     "data": {
      "application/vnd.jupyter.widget-view+json": {
       "model_id": "440b6c7dd54b41f28ba2daf0bb4017e4",
       "version_major": 2,
       "version_minor": 0
      },
      "text/plain": [
       "config.json:   0%|          | 0.00/779 [00:00<?, ?B/s]"
      ]
     },
     "metadata": {},
     "output_type": "display_data"
    },
    {
     "data": {
      "application/vnd.jupyter.widget-view+json": {
       "model_id": "e3b0deeecd084d6891f3ea22ac7c25ac",
       "version_major": 2,
       "version_minor": 0
      },
      "text/plain": [
       "model.safetensors:   0%|          | 0.00/1.34G [00:00<?, ?B/s]"
      ]
     },
     "metadata": {},
     "output_type": "display_data"
    },
    {
     "data": {
      "application/vnd.jupyter.widget-view+json": {
       "model_id": "82a1f3efcb414a5d8cc8baf191806eee",
       "version_major": 2,
       "version_minor": 0
      },
      "text/plain": [
       "tokenizer_config.json:   0%|          | 0.00/366 [00:00<?, ?B/s]"
      ]
     },
     "metadata": {},
     "output_type": "display_data"
    },
    {
     "data": {
      "application/vnd.jupyter.widget-view+json": {
       "model_id": "aa993173f1db400f86f0b400bdcdcc90",
       "version_major": 2,
       "version_minor": 0
      },
      "text/plain": [
       "vocab.txt: 0.00B [00:00, ?B/s]"
      ]
     },
     "metadata": {},
     "output_type": "display_data"
    },
    {
     "data": {
      "application/vnd.jupyter.widget-view+json": {
       "model_id": "b9da4481ce8240879069055b1412d00d",
       "version_major": 2,
       "version_minor": 0
      },
      "text/plain": [
       "tokenizer.json: 0.00B [00:00, ?B/s]"
      ]
     },
     "metadata": {},
     "output_type": "display_data"
    },
    {
     "data": {
      "application/vnd.jupyter.widget-view+json": {
       "model_id": "631de1b311044509825d24a3436f9864",
       "version_major": 2,
       "version_minor": 0
      },
      "text/plain": [
       "special_tokens_map.json:   0%|          | 0.00/125 [00:00<?, ?B/s]"
      ]
     },
     "metadata": {},
     "output_type": "display_data"
    },
    {
     "data": {
      "application/vnd.jupyter.widget-view+json": {
       "model_id": "4c58bbf0a2d0416eb90b67223de09f7c",
       "version_major": 2,
       "version_minor": 0
      },
      "text/plain": [
       "config.json:   0%|          | 0.00/191 [00:00<?, ?B/s]"
      ]
     },
     "metadata": {},
     "output_type": "display_data"
    },
    {
     "name": "stdout",
     "output_type": "stream",
     "text": [
      "Hybrid retriever created.\n"
     ]
    }
   ],
   "source": [
    "from langchain_huggingface import HuggingFaceEmbeddings\n",
    "from langchain_community.vectorstores import FAISS\n",
    "from langchain.retrievers import BM25Retriever, EnsembleRetriever\n",
    "from langchain.retrievers import ContextualCompressionRetriever\n",
    "from langchain.retrievers.document_compressors import CrossEncoderReranker\n",
    "from langchain_community.cross_encoders import HuggingFaceCrossEncoder\n",
    "\n",
    "# Embedding Model\n",
    "embedding_function = HuggingFaceEmbeddings(model_name=EMBEDDING_MODEL_NAME)\n",
    "vectorstore = FAISS.from_documents(chunks, embedding_function)\n",
    "\n",
    "# Keyword Matching Model\n",
    "vector_retriever = vectorstore.as_retriever(search_kwargs={\"k\": 10})\n",
    "keyword_retriever = BM25Retriever.from_documents(chunks)\n",
    "keyword_retriever.k = 10\n",
    "\n",
    "# Combining both into a Hybrid Retriever\n",
    "hybrid_retriever = EnsembleRetriever(\n",
    "    retrievers=[keyword_retriever, vector_retriever],\n",
    "    weights=[0.5, 0.5],\n",
    "    c = 10 # 'k' in Reciprocal Rank Fusion algorithm\n",
    ")\n",
    "print(\"Hybrid retriever created.\")"
   ]
  },
  {
   "cell_type": "code",
   "execution_count": null,
   "metadata": {
    "execution": {
     "iopub.execute_input": "2025-09-04T13:27:31.380178Z",
     "iopub.status.busy": "2025-09-04T13:27:31.379880Z",
     "iopub.status.idle": "2025-09-04T13:27:31.413081Z",
     "shell.execute_reply": "2025-09-04T13:27:31.412346Z",
     "shell.execute_reply.started": "2025-09-04T13:27:31.380158Z"
    },
    "scrolled": true,
    "trusted": true
   },
   "outputs": [],
   "source": [
    "hybrid_retriever.invoke(\"IPO\")"
   ]
  },
  {
   "cell_type": "markdown",
   "metadata": {},
   "source": [
    "## Re-Ranking setup"
   ]
  },
  {
   "cell_type": "code",
   "execution_count": 16,
   "metadata": {
    "_cell_guid": "b1076dfc-b9ad-4769-8c92-a6c4dae69d19",
    "_uuid": "8f2839f25d086af736a60e9eeb907d3b93b6e0e5",
    "execution": {
     "iopub.execute_input": "2025-09-04T13:30:24.356329Z",
     "iopub.status.busy": "2025-09-04T13:30:24.355991Z",
     "iopub.status.idle": "2025-09-04T13:30:25.448559Z",
     "shell.execute_reply": "2025-09-04T13:30:25.447777Z",
     "shell.execute_reply.started": "2025-09-04T13:30:24.356286Z"
    },
    "trusted": true
   },
   "outputs": [
    {
     "name": "stdout",
     "output_type": "stream",
     "text": [
      "Reranking compression retriever created.\n"
     ]
    }
   ],
   "source": [
    "# --- 4.3. Setup Reranking ---\n",
    "reranker_model = HuggingFaceCrossEncoder(model_name=RERANKER_MODEL_NAME) # reranks all chunks retrieved by hybrid_retriever\n",
    "compressor = CrossEncoderReranker(model=reranker_model, top_n=5) # takes top 5 chunks, drops others\n",
    "\n",
    "compression_retriever = ContextualCompressionRetriever( # Needs base retriever(FAISS + BM25) and compressor(Reranker)\n",
    "    base_compressor=compressor,\n",
    "    base_retriever=hybrid_retriever\n",
    ")\n",
    "print(\"Reranking compression retriever created.\")\n",
    "\n",
    "# compression_retriever(hybrid_retriever(FAISS, BM25), compressor(BAAI, n=5))"
   ]
  },
  {
   "cell_type": "code",
   "execution_count": null,
   "metadata": {
    "execution": {
     "iopub.execute_input": "2025-09-04T13:30:27.679104Z",
     "iopub.status.busy": "2025-09-04T13:30:27.678817Z",
     "iopub.status.idle": "2025-09-04T13:30:27.747692Z",
     "shell.execute_reply": "2025-09-04T13:30:27.746927Z",
     "shell.execute_reply.started": "2025-09-04T13:30:27.679084Z"
    },
    "trusted": true
   },
   "outputs": [],
   "source": [
    "compression_retriever.invoke(\"IPO\")"
   ]
  },
  {
   "cell_type": "markdown",
   "metadata": {},
   "source": [
    "# Initializing Model and RAG Pipeline"
   ]
  },
  {
   "cell_type": "code",
   "execution_count": 19,
   "metadata": {
    "_cell_guid": "b1076dfc-b9ad-4769-8c92-a6c4dae69d19",
    "_uuid": "8f2839f25d086af736a60e9eeb907d3b93b6e0e5",
    "execution": {
     "iopub.execute_input": "2025-09-04T13:33:42.918451Z",
     "iopub.status.busy": "2025-09-04T13:33:42.917840Z",
     "iopub.status.idle": "2025-09-04T13:33:43.034873Z",
     "shell.execute_reply": "2025-09-04T13:33:43.034112Z",
     "shell.execute_reply.started": "2025-09-04T13:33:42.918428Z"
    },
    "trusted": true
   },
   "outputs": [
    {
     "name": "stdout",
     "output_type": "stream",
     "text": [
      "Chat LLM 'meta-llama/Meta-Llama-3-8B-Instruct' initialized.\n"
     ]
    }
   ],
   "source": [
    "from langchain_huggingface import HuggingFaceEndpoint\n",
    "from langchain_huggingface.chat_models import ChatHuggingFace\n",
    "from langchain.prompts import ChatPromptTemplate\n",
    "from langchain.chains.combine_documents import create_stuff_documents_chain\n",
    "from langchain.chains import create_retrieval_chain\n",
    "from langchain_core.prompts import ChatPromptTemplate, MessagesPlaceholder\n",
    "from langchain.chains import create_history_aware_retriever\n",
    "\n",
    "# Initializing the base LLM from Hugging Face\n",
    "endpoint_llm = HuggingFaceEndpoint(\n",
    "    repo_id=LLM_REPO_ID, task=\"text-generation\", max_new_tokens=512,\n",
    "    top_k=50, top_p=0.9, temperature=0.6\n",
    ")\n",
    "# Wrap it in the ChatHuggingFace adapter\n",
    "llm = ChatHuggingFace(llm=endpoint_llm)\n",
    "print(f\"Chat LLM '{LLM_REPO_ID}' initialized.\")"
   ]
  },
  {
   "cell_type": "markdown",
   "metadata": {},
   "source": [
    "## Rephrasing question for Memory"
   ]
  },
  {
   "cell_type": "code",
   "execution_count": 20,
   "metadata": {
    "_cell_guid": "b1076dfc-b9ad-4769-8c92-a6c4dae69d19",
    "_uuid": "8f2839f25d086af736a60e9eeb907d3b93b6e0e5",
    "execution": {
     "iopub.execute_input": "2025-09-04T13:34:45.360736Z",
     "iopub.status.busy": "2025-09-04T13:34:45.359974Z",
     "iopub.status.idle": "2025-09-04T13:34:45.366213Z",
     "shell.execute_reply": "2025-09-04T13:34:45.365368Z",
     "shell.execute_reply.started": "2025-09-04T13:34:45.360710Z"
    },
    "trusted": true
   },
   "outputs": [],
   "source": [
    "# Prompt for rephrasing the input question into including past chats\n",
    "contextualize_q_system_prompt = (\n",
    "    \"Given a chat history and the latest user question \"\n",
    "    \"which might reference context in the chat history, \"\n",
    "    \"formulate a standalone question which can be understood \"\n",
    "    \"without the chat history. Do NOT answer the question, \"\n",
    "    \"just reformulate it if needed and otherwise return it as is.\"\n",
    ")\n",
    "\n",
    "contextualize_q_prompt = ChatPromptTemplate.from_messages(\n",
    "    [\n",
    "        (\"system\", contextualize_q_system_prompt),\n",
    "        MessagesPlaceholder(\"chat_history\"),\n",
    "        (\"human\", \"{input}\"),\n",
    "    ]\n",
    ")\n",
    "\n",
    "# This chain will rephrase the question and then retrieve documents\n",
    "history_aware_retriever = create_history_aware_retriever(\n",
    "    llm, compression_retriever, contextualize_q_prompt\n",
    ")\n",
    "\n",
    "# compression_retriever(hybrid_retriever(FAISS, BM25), compressor(BAAI, n=5))\n",
    "# history_aware_retriever(Llama, compression retriever, prompt)"
   ]
  },
  {
   "cell_type": "markdown",
   "metadata": {},
   "source": [
    "## Final Q/A chain formation"
   ]
  },
  {
   "cell_type": "code",
   "execution_count": 21,
   "metadata": {
    "_cell_guid": "b1076dfc-b9ad-4769-8c92-a6c4dae69d19",
    "_uuid": "8f2839f25d086af736a60e9eeb907d3b93b6e0e5",
    "execution": {
     "iopub.execute_input": "2025-09-04T13:35:19.860004Z",
     "iopub.status.busy": "2025-09-04T13:35:19.859199Z",
     "iopub.status.idle": "2025-09-04T13:35:19.866817Z",
     "shell.execute_reply": "2025-09-04T13:35:19.866213Z",
     "shell.execute_reply.started": "2025-09-04T13:35:19.859975Z"
    },
    "trusted": true
   },
   "outputs": [
    {
     "name": "stdout",
     "output_type": "stream",
     "text": [
      "Conversational RAG chain created successfully.\n"
     ]
    }
   ],
   "source": [
    "# New system prompt for the final answer generation\n",
    "qa_system_prompt = (\n",
    "    \"You are an expert financial assistant. Use the following retrieved context to answer the user's question accurately. \"\n",
    "    \"If the information is not in the context, say that you cannot find the answer in the provided documents. \"\n",
    "    \"Be concise and helpful.\"\n",
    "    \"\\n\\n\"\n",
    "    \"{context}\"\n",
    ")\n",
    "\n",
    "qa_prompt = ChatPromptTemplate.from_messages(\n",
    "    [\n",
    "        (\"system\", qa_system_prompt),\n",
    "        MessagesPlaceholder(\"chat_history\"),\n",
    "        (\"human\", \"{input}\"),\n",
    "    ]\n",
    ")\n",
    "\n",
    "# Re-create the document chain with the new prompt\n",
    "question_answer_chain = create_stuff_documents_chain(llm, qa_prompt)\n",
    "\n",
    "# This is your final, conversational RAG chain\n",
    "rag_chain = create_retrieval_chain(history_aware_retriever, question_answer_chain)\n",
    "print(\"Conversational RAG chain created successfully.\")\n",
    "\n",
    "# compression_retriever(hybrid_retriever(FAISS, BM25), compressor(BAAI, n=5)) -> we get 5 chunks (ranked)\n",
    "# history_aware_retriever(Llama, compression retriever, contextualize_qa_prompt) -> 5 chunks + query_rephrased\n",
    "# question_answer_chain(Llama, qa_prompt) -> chat_history + query_rephrased\n",
    "# rag_chain(history_aware_retriever, question_answer_chain) -> we get final output"
   ]
  },
  {
   "cell_type": "markdown",
   "metadata": {},
   "source": [
    "# TESTING"
   ]
  },
  {
   "cell_type": "code",
   "execution_count": 22,
   "metadata": {
    "execution": {
     "iopub.execute_input": "2025-09-04T13:47:30.228262Z",
     "iopub.status.busy": "2025-09-04T13:47:30.227544Z",
     "iopub.status.idle": "2025-09-04T13:47:30.233565Z",
     "shell.execute_reply": "2025-09-04T13:47:30.232985Z",
     "shell.execute_reply.started": "2025-09-04T13:47:30.228237Z"
    },
    "trusted": true
   },
   "outputs": [],
   "source": [
    "from langchain_core.messages import HumanMessage, AIMessage\n",
    "def ask_with_memory(query, chat_history):\n",
    "    response = rag_chain.invoke({\"input\": query, \"chat_history\": chat_history})\n",
    "    print(\"\\nAnswer:\")\n",
    "    print(response[\"answer\"])\n",
    "\n",
    "    # Update history\n",
    "    chat_history.extend([HumanMessage(content=query), AIMessage(content=response[\"answer\"])])\n",
    "    print(\"=\"*100)\n",
    "    print(\"\\nSOURCES:\")\n",
    "    for i, doc in enumerate(response[\"context\"]):\n",
    "        print(f\"\\t Source {i+1} (Page {doc.metadata.get('page', 'N/A')}):\\n \\\"{doc.page_content[:100]}...\\\"\")\n",
    "        print(\"_\"*100)\n",
    "\n",
    "    print(\"#\"*50, \"END\", \"#\"*50)"
   ]
  },
  {
   "cell_type": "code",
   "execution_count": 23,
   "metadata": {
    "execution": {
     "iopub.execute_input": "2025-09-04T13:47:31.365609Z",
     "iopub.status.busy": "2025-09-04T13:47:31.365351Z",
     "iopub.status.idle": "2025-09-04T13:49:48.679962Z",
     "shell.execute_reply": "2025-09-04T13:49:48.679356Z",
     "shell.execute_reply.started": "2025-09-04T13:47:31.365593Z"
    },
    "scrolled": true,
    "trusted": true
   },
   "outputs": [
    {
     "name": "stdout",
     "output_type": "stream",
     "text": [
      "Query:  What are IPOs\n"
     ]
    },
    {
     "data": {
      "application/vnd.jupyter.widget-view+json": {
       "model_id": "c2d56c8aea074c4ba4529f56f8c4d443",
       "version_major": 2,
       "version_minor": 0
      },
      "text/plain": [
       "Batches:   0%|          | 0/1 [00:00<?, ?it/s]"
      ]
     },
     "metadata": {},
     "output_type": "display_data"
    },
    {
     "name": "stdout",
     "output_type": "stream",
     "text": [
      "\n",
      "Answer:\n",
      "According to the provided context, an IPO (Initial Public Offering) is when a company is introduced into the publicly traded stock markets for the first time. In an IPO, the company's promoters choose to offer a certain percentage of shares to the public. The primary reason for going public and the process of an IPO is explained in detail in Chapters 4 and 5. The main purposes of an IPO include:\n",
      "\n",
      "1. Raising capital to fund expansion projects\n",
      "2. Allowing early investors to cash out\n",
      "3. Rewarding employees\n",
      "4. Gaining visibility for the company\n",
      "\n",
      "The context also mentions that merchant bankers act as key partners with the company during the IPO process, and SEBI regulates the IPO market.\n",
      "====================================================================================================\n",
      "\n",
      "SOURCES:\n",
      "\t Source 1 (Page 35):\n",
      " \"18.The valuation of the company increases as and when the business , revenues and \n",
      "profitability inc...\"\n",
      "____________________________________________________________________________________________________\n",
      "\t Source 2 (Page 108):\n",
      " \"CHAPTER 1 4 \n",
      " \n",
      "Supplementary  Note \n",
      " \n",
      "IPO, OFS, and FPO – How are they different?  \n",
      "IPO \n",
      "Initial Pub...\"\n",
      "____________________________________________________________________________________________________\n",
      "\t Source 3 (Page 43):\n",
      " \"Key takeaways from this chapter\n",
      "1. Companies go public to raise funds, provide an exit for early inv...\"\n",
      "____________________________________________________________________________________________________\n",
      "\t Source 4 (Page 458):\n",
      " \"4. Respect Qualitative Research – Character is more important than numbers. \n",
      "Always look at investin...\"\n",
      "____________________________________________________________________________________________________\n",
      "\t Source 5 (Page 39):\n",
      " \"h.Management details and their background\n",
      "• Market the IPO – This would involve TV and print adverti...\"\n",
      "____________________________________________________________________________________________________\n",
      "################################################## END ##################################################\n"
     ]
    },
    {
     "name": "stdout",
     "output_type": "stream",
     "text": [
      "Query:  Tell me more about it\n"
     ]
    },
    {
     "data": {
      "application/vnd.jupyter.widget-view+json": {
       "model_id": "79f88fc30d214b7a99f2c679a499e6c0",
       "version_major": 2,
       "version_minor": 0
      },
      "text/plain": [
       "Batches:   0%|          | 0/1 [00:00<?, ?it/s]"
      ]
     },
     "metadata": {},
     "output_type": "display_data"
    },
    {
     "name": "stdout",
     "output_type": "stream",
     "text": [
      "\n",
      "Answer:\n",
      "Based on the provided context, here are more details about IPOs:\n",
      "\n",
      "1. **Reasons for going public**: Companies go public to raise funds for their capital expenditure (Capex) requirements, to avoid debt and the associated finance charges, and to spread the risk among a large group of people.\n",
      "\n",
      "2. **IPO process**: The IPO process involves several steps:\n",
      "\t* Appointing a merchant banker (also called a Book Running Lead Manager (BRLM)/Lead Manager (LM)) to assist the company with various aspects of the IPO process.\n",
      "\t* Conducting a due diligence on the company by the merchant banker to ensure legal compliance and issuing a due diligence certificate.\n",
      "\t* Preparing the listing documents, including the Draft Red Herring Prospectus (DRHP), under the guidance of the merchant banker.\n",
      "\t* Underwriting shares by the merchant banker, where they agree to buy all or part of the IPO shares and resell them to the public.\n",
      "\t* Filing the DRHP with SEBI and obtaining a nod from SEBI to proceed with the IPO.\n",
      "\t* Preparing and circulating the DRHP to the public, which contains information about the company, its business, financials, management, and risks.\n",
      "\t* Marketing the IPO through TV and print advertisements to build awareness.\n",
      "\n",
      "3. **Key players involved**: The key players involved in the IPO process are:\n",
      "\t* The company: The promoters or founders of the company decide to go public and file for an IPO.\n",
      "\t* Merchant bankers: They assist the company with various aspects of the IPO process, including due diligence, listing documents, and underwriting shares.\n",
      "\t* SEBI: The Securities and Exchange Board of India regulates the IPO market and ensures that the IPO process is fair and transparent.\n",
      "\t* General public: The public can subscribe to the IPO by buying shares from the company.\n",
      "\n",
      "4. **Options after an IPO**: After a company goes public, there are several options available to it, including:\n",
      "\t* Rights issue: The company can issue rights to existing shareholders to buy additional shares at a discounted price.\n",
      "\t* Offer for sale: The company can sell shares to the public through an offer for sale, which allows existing shareholders to sell their shares.\n",
      "\t* Follow-on public offer: The company can issue additional shares to the public through a follow-on public offer.\n",
      "====================================================================================================\n",
      "\n",
      "SOURCES:\n",
      "\t Source 1 (Page 33):\n",
      " \"shares to the general public. The general public will subscribe to the shares (i.e if they want to) ...\"\n",
      "____________________________________________________________________________________________________\n",
      "\t Source 2 (Page 108):\n",
      " \"CHAPTER 1 4 \n",
      " \n",
      "Supplementary  Note \n",
      " \n",
      "IPO, OFS, and FPO – How are they different?  \n",
      "IPO \n",
      "Initial Pub...\"\n",
      "____________________________________________________________________________________________________\n",
      "\t Source 3 (Page 38):\n",
      " \"they raise, better it is for the company.\n",
      "5.3 - Merchant Bankers\n",
      "Having decided to go public, the co...\"\n",
      "____________________________________________________________________________________________________\n",
      "\t Source 4 (Page 37):\n",
      " \"5.2 - Why do companies go public?\n",
      "We closed the previous chapter with few very critical questions. O...\"\n",
      "____________________________________________________________________________________________________\n",
      "\t Source 5 (Page 39):\n",
      " \"• Getting a nod from SEBI – Once SEBI receives the registration statement, SEBI takes a call on \n",
      "whe...\"\n",
      "____________________________________________________________________________________________________\n",
      "################################################## END ##################################################\n"
     ]
    },
    {
     "name": "stdout",
     "output_type": "stream",
     "text": [
      "Query:  Elaborate 1st point more\n"
     ]
    },
    {
     "data": {
      "application/vnd.jupyter.widget-view+json": {
       "model_id": "c3013c5a8050423883aba238cfa31707",
       "version_major": 2,
       "version_minor": 0
      },
      "text/plain": [
       "Batches:   0%|          | 0/1 [00:00<?, ?it/s]"
      ]
     },
     "metadata": {},
     "output_type": "display_data"
    },
    {
     "name": "stdout",
     "output_type": "stream",
     "text": [
      "\n",
      "Answer:\n",
      "The first point I mentioned was:\n",
      "\n",
      "**Reasons for going public**: Companies go public to raise funds for their capital expenditure (Capex) requirements, to avoid debt and the associated finance charges, and to spread the risk among a large group of people.\n",
      "\n",
      "Let me elaborate on each of these reasons:\n",
      "\n",
      "1. **Raising funds for Capex requirements**: Companies often require large amounts of capital to fund their expansion plans, research and development, and other capital expenditure projects. Going public allows them to raise funds from a large number of investors, which can be used to finance these projects.\n",
      "\n",
      "2. **Avoiding debt and finance charges**: By going public, companies can avoid taking on debt to raise funds. This means they don't have to pay interest on loans, which can save them a significant amount of money. Additionally, they don't have to worry about the associated finance charges, which can eat into their profits.\n",
      "\n",
      "3. **Spreading risk among a large group of people**: When a company is private, the risk is borne entirely by the promoters or founders. However, when a company goes public, the risk is spread among a large number of investors, including institutional investors, high net worth individuals, and retail investors. This reduces the financial risk for the promoters, as they are no longer solely responsible for the company's fortunes.\n",
      "\n",
      "The promoter, in particular, benefits from going public, as they are able to:\n",
      "\n",
      "* **Raise funds**: As mentioned earlier, going public allows the promoter to raise funds for their company's growth plans.\n",
      "* **Avoid debt**: By avoiding debt, the promoter can save money on interest payments and finance charges.\n",
      "* **Spread risk**: By spreading the risk among a large number of investors, the promoter reduces their personal financial risk.\n",
      "\n",
      "Overall, going public provides companies and their promoters with a range of benefits, including access to capital, reduced financial risk, and increased visibility and credibility.\n",
      "====================================================================================================\n",
      "\n",
      "SOURCES:\n",
      "\t Source 1 (Page 37):\n",
      " \"5.2 - Why do companies go public?\n",
      "We closed the previous chapter with few very critical questions. O...\"\n",
      "____________________________________________________________________________________________________\n",
      "\t Source 2 (Page 38):\n",
      " \"they raise, better it is for the company.\n",
      "5.3 - Merchant Bankers\n",
      "Having decided to go public, the co...\"\n",
      "____________________________________________________________________________________________________\n",
      "\t Source 3 (Page 109):\n",
      " \"Rights Issue  \n",
      "The promoters can choose to raise additional capital from its existing shareholders b...\"\n",
      "____________________________________________________________________________________________________\n",
      "\t Source 4 (Page 37):\n",
      " \"you also buy risk. So when the company goes public, the promoter is actually spreading his risk \n",
      "amo...\"\n",
      "____________________________________________________________________________________________________\n",
      "\t Source 5 (Page 35):\n",
      " \"18.The valuation of the company increases as and when the business , revenues and \n",
      "profitability inc...\"\n",
      "____________________________________________________________________________________________________\n",
      "################################################## END ##################################################\n"
     ]
    },
    {
     "name": "stdout",
     "output_type": "stream",
     "text": [
      "Query:  STOP\n"
     ]
    }
   ],
   "source": [
    "from langchain_core.messages import HumanMessage, AIMessage\n",
    "\n",
    "# To store the conversation\n",
    "chat_history = []\n",
    "\n",
    "query = str(input(\"Query: \"))\n",
    "while(query!= 'STOP'):\n",
    "    ask_with_memory(query, chat_history)\n",
    "    query = str(input(\"Query: \"))"
   ]
  },
  {
   "cell_type": "code",
   "execution_count": 31,
   "metadata": {
    "execution": {
     "iopub.execute_input": "2025-09-04T14:03:37.703516Z",
     "iopub.status.busy": "2025-09-04T14:03:37.703010Z",
     "iopub.status.idle": "2025-09-04T14:03:37.708396Z",
     "shell.execute_reply": "2025-09-04T14:03:37.707717Z",
     "shell.execute_reply.started": "2025-09-04T14:03:37.703490Z"
    },
    "trusted": true
   },
   "outputs": [
    {
     "data": {
      "text/plain": [
       "AIMessage(content='Based on the provided context, here are more details about IPOs:\\n\\n1. **Reasons for going public**: Companies go public to raise funds for their capital expenditure (Capex) requirements, to avoid debt and the associated finance charges, and to spread the risk among a large group of people.\\n\\n2. **IPO process**: The IPO process involves several steps:\\n\\t* Appointing a merchant banker (also called a Book Running Lead Manager (BRLM)/Lead Manager (LM)) to assist the company with various aspects of the IPO process.\\n\\t* Conducting a due diligence on the company by the merchant banker to ensure legal compliance and issuing a due diligence certificate.\\n\\t* Preparing the listing documents, including the Draft Red Herring Prospectus (DRHP), under the guidance of the merchant banker.\\n\\t* Underwriting shares by the merchant banker, where they agree to buy all or part of the IPO shares and resell them to the public.\\n\\t* Filing the DRHP with SEBI and obtaining a nod from SEBI to proceed with the IPO.\\n\\t* Preparing and circulating the DRHP to the public, which contains information about the company, its business, financials, management, and risks.\\n\\t* Marketing the IPO through TV and print advertisements to build awareness.\\n\\n3. **Key players involved**: The key players involved in the IPO process are:\\n\\t* The company: The promoters or founders of the company decide to go public and file for an IPO.\\n\\t* Merchant bankers: They assist the company with various aspects of the IPO process, including due diligence, listing documents, and underwriting shares.\\n\\t* SEBI: The Securities and Exchange Board of India regulates the IPO market and ensures that the IPO process is fair and transparent.\\n\\t* General public: The public can subscribe to the IPO by buying shares from the company.\\n\\n4. **Options after an IPO**: After a company goes public, there are several options available to it, including:\\n\\t* Rights issue: The company can issue rights to existing shareholders to buy additional shares at a discounted price.\\n\\t* Offer for sale: The company can sell shares to the public through an offer for sale, which allows existing shareholders to sell their shares.\\n\\t* Follow-on public offer: The company can issue additional shares to the public through a follow-on public offer.', additional_kwargs={}, response_metadata={})"
      ]
     },
     "execution_count": 31,
     "metadata": {},
     "output_type": "execute_result"
    }
   ],
   "source": [
    "chat_history[3] # Sample element in 'chat_history'"
   ]
  }
 ],
 "metadata": {
  "kaggle": {
   "accelerator": "gpu",
   "dataSources": [
    {
     "datasetId": 8197426,
     "sourceId": 12952846,
     "sourceType": "datasetVersion"
    }
   ],
   "dockerImageVersionId": 31090,
   "isGpuEnabled": true,
   "isInternetEnabled": true,
   "language": "python",
   "sourceType": "notebook"
  },
  "kernelspec": {
   "display_name": "Python 3",
   "language": "python",
   "name": "python3"
  },
  "language_info": {
   "codemirror_mode": {
    "name": "ipython",
    "version": 3
   },
   "file_extension": ".py",
   "mimetype": "text/x-python",
   "name": "python",
   "nbconvert_exporter": "python",
   "pygments_lexer": "ipython3",
   "version": "3.11.13"
  }
 },
 "nbformat": 4,
 "nbformat_minor": 4
}
